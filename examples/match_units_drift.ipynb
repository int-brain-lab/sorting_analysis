{
 "cells": [
  {
   "cell_type": "code",
   "execution_count": 1,
   "metadata": {},
   "outputs": [
    {
     "data": {
      "application/javascript": [
       "IPython.notebook.set_autosave_interval(180000)"
      ]
     },
     "metadata": {},
     "output_type": "display_data"
    },
    {
     "name": "stdout",
     "output_type": "stream",
     "text": [
      "Autosaving every 180 seconds\n"
     ]
    },
    {
     "data": {
      "text/html": [
       "<style>.container { width:100% !important; }</style>"
      ],
      "text/plain": [
       "<IPython.core.display.HTML object>"
      ]
     },
     "metadata": {},
     "output_type": "display_data"
    }
   ],
   "source": [
    "import matplotlib\n",
    "matplotlib.use('Agg')\n",
    "#%matplotlib tk\n",
    "\n",
    "%autosave 180\n",
    "\n",
    "from IPython.core.display import display, HTML\n",
    "display(HTML(\"<style>.container { width:100% !important; }</style>\"))\n",
    "\n",
    "import numpy as np\n",
    "\n",
    "from utility_match_units import (binary_reader_waveforms,match_units,\n",
    "                                 search_spikes_parallel, load_ks2_spikes,\n",
    "                                 reload_ks2_templates, Match_to_ground_truth,\n",
    "                                 plot_single_unit,\n",
    "                                plot_single_unit_parallel)\n",
    "\n",
    "clrs = ['blue', 'red', 'green', 'cyan',\n",
    "'black','grey','brown','slategrey','darkviolet','darkmagenta',\n",
    "'orange','firebrick','lawngreen','dodgerblue','crimson','orchid','slateblue',\n",
    "'darkgreen','darkorange','indianred','darkviolet','deepskyblue','greenyellow',\n",
    "'peru','cadetblue','forestgreen','slategrey','lightsteelblue','rebeccapurple',\n",
    "'darkmagenta','yellow','hotpink']\n"
   ]
  },
  {
   "cell_type": "code",
   "execution_count": 2,
   "metadata": {
    "scrolled": true
   },
   "outputs": [
    {
     "name": "stdout",
     "output_type": "stream",
     "text": [
      "Remaking templates \n",
      "templates sorted:  (109, 101, 384)\n"
     ]
    }
   ],
   "source": [
    "# dataset aprameters:\n",
    "root_dir = '/media/cat/1TB/data/synthetic/run4/'\n",
    "n_channels = 384\n",
    "n_times = 101\n",
    "\n",
    "# convert KS2 spike trains to 2 column standard and reorder spikes by sequential index\n",
    "if True:\n",
    "    spike_train_sorted = load_ks2_spikes(root_dir, n_channels, n_times)\n",
    "#print (\"Spike train: \\n\", spike_train_sorted)\n",
    "else:\n",
    "    spike_train_sorted = np.load(root_dir+'tmp/output/spike_train.npy')\n",
    "    spike_train_sorted[:,0]-=n_times//2\n",
    "    \n",
    "# remake templates from data\n",
    "print (\"Remaking templates \")\n",
    "data_type='int16'\n",
    "templates_sorted = reload_ks2_templates(root_dir, spike_train_sorted, data_type, \n",
    "                                        n_channels, n_times)\n",
    "print (\"templates sorted: \", templates_sorted.shape)\n"
   ]
  },
  {
   "cell_type": "code",
   "execution_count": 3,
   "metadata": {},
   "outputs": [],
   "source": [
    "# plt.plot(templates_sorted[0])\n",
    "# plt.show()"
   ]
  },
  {
   "cell_type": "code",
   "execution_count": 4,
   "metadata": {
    "scrolled": true
   },
   "outputs": [
    {
     "name": "stdout",
     "output_type": "stream",
     "text": [
      " ground truth templates:  (50, 101, 384)\n",
      "n_spikes:  [33896, 37123, 28201, 29335, 30391, 30675, 29571, 32910, 39718, 31124, 34974, 31700, 33624, 25728, 35404, 28201, 28798, 26565, 30837, 26112, 34836, 23778, 24868, 33947, 35536, 27493, 21799, 35098, 31822, 36250, 32404, 31383, 25675, 35341, 33146, 33656, 35283, 36777, 29724, 28273, 26827, 32303, 30173, 30998, 36681, 37409, 38774, 34991, 28044, 26798]\n",
      " DONE MATCHING \n"
     ]
    }
   ],
   "source": [
    "# match to ground truth data;\n",
    "matcher = Match_to_ground_truth(root_dir, spike_train_sorted, templates_sorted)\n",
    "print (\"n_spikes: \", matcher.n_spikes)\n",
    "print (\" DONE MATCHING \")\n"
   ]
  },
  {
   "cell_type": "code",
   "execution_count": 6,
   "metadata": {
    "scrolled": true
   },
   "outputs": [
    {
     "name": "stdout",
     "output_type": "stream",
     "text": [
      "n matches:  3\n",
      "sizes: [16236 11249  7404]  , clrs:  ['blue', 'red', 'green']\n",
      "sizes: [22219 12365 10557]  , clrs:  ['blue', 'red', 'green']\n",
      "sizes: [11171  7341  6461]  , clrs:  ['blue', 'red', 'green']\n",
      "sizes: [15390 14425  1107]  , clrs:  ['blue', 'red', 'green']\n",
      "sizes: [1202 1148 1129]  , clrs:  ['blue', 'red', 'green']\n",
      "sizes: [13257  4180  1196]  , clrs:  ['blue', 'red', 'green']\n",
      "sizes: [18327 11815  1133]  , clrs:  ['blue', 'red', 'green']\n",
      "sizes: [19690 10295  3606]  , clrs:  ['blue', 'red', 'green']\n",
      "sizes: [1545 1533 1466]  , clrs:  ['blue', 'red', 'green']\n",
      "sizes: [21123 10128  1226]  , clrs:  ['blue', 'red', 'green']\n",
      "sizes: [17916 17787  1373]  , clrs:  ['blue', 'red', 'green']\n",
      "sizes: [1308 1284 1201]  , clrs:  ['blue', 'red', 'green']\n",
      "sizes: [1824 1531 1379]  , clrs:  ['blue', 'red', 'green']\n",
      "sizes: [16057  9753  1063]  , clrs:  ['blue', 'red', 'green']\n",
      "sizes: [20260 15853  2001]  , clrs:  ['blue', 'red', 'green']\n",
      "sizes: [14326 14278  3617]  , clrs:  ['blue', 'red', 'green']\n",
      "sizes: [13633  1098  1057]  , clrs:  ['blue', 'red', 'green']\n",
      "sizes: [14992 11952  1015]  , clrs:  ['blue', 'red', 'green']\n",
      "sizes: [18439 12947  2615]  , clrs:  ['blue', 'red', 'green']\n",
      "sizes: [3957 3433  978]  , clrs:  ['blue', 'red', 'green']\n",
      "sizes: [1333 1317 1286]  , clrs:  ['blue', 'red', 'green']\n",
      "sizes: [13659 10313  1046]  , clrs:  ['blue', 'red', 'green']\n",
      "sizes: [12468 12158   972]  , clrs:  ['blue', 'red', 'green']\n",
      "sizes: [22151 12366  1330]  , clrs:  ['blue', 'red', 'green']\n",
      "sizes: [19376 14575  7716]  , clrs:  ['blue', 'red', 'green']\n",
      "sizes: [14343 13040  1053]  , clrs:  ['blue', 'red', 'green']\n",
      "sizes: [13029  8997   822]  , clrs:  ['blue', 'red', 'green']\n",
      "sizes: [1358 1349 1313]  , clrs:  ['blue', 'red', 'green']\n",
      "sizes: [1657 1211 1187]  , clrs:  ['blue', 'red', 'green']\n",
      "sizes: [19247 17843  1454]  , clrs:  ['blue', 'red', 'green']\n",
      "sizes: [18130 13390  1262]  , clrs:  ['blue', 'red', 'green']\n",
      "sizes: [1277 1234 1178]  , clrs:  ['blue', 'red', 'green']\n",
      "sizes: [22865  2713   992]  , clrs:  ['blue', 'red', 'green']\n",
      "sizes: [21668 14035  1369]  , clrs:  ['blue', 'red', 'green']\n",
      "sizes: [17879 15520  1367]  , clrs:  ['blue', 'red', 'green']\n",
      "sizes: [4676 1363 1269]  , clrs:  ['blue', 'red', 'green']\n",
      "sizes: [12313  1313  1296]  , clrs:  ['blue', 'red', 'green']\n",
      "sizes: [14762  1404  1395]  , clrs:  ['blue', 'red', 'green']\n",
      "sizes: [15428 14770  1157]  , clrs:  ['blue', 'red', 'green']\n",
      "sizes: [5360 3439 1094]  , clrs:  ['blue', 'red', 'green']\n",
      "sizes: [15529 11070  1014]  , clrs:  ['blue', 'red', 'green']\n",
      "sizes: [17285 15602  1242]  , clrs:  ['blue', 'red', 'green']\n",
      "sizes: [15816 14754  1732]  , clrs:  ['blue', 'red', 'green']\n",
      "sizes: [6199 1205 1155]  , clrs:  ['blue', 'red', 'green']\n",
      "sizes: [3431 1435 1381]  , clrs:  ['blue', 'red', 'green']\n",
      "sizes: [21990 14355  1457]  , clrs:  ['blue', 'red', 'green']\n",
      "sizes: [22140 15013  1948]  , clrs:  ['blue', 'red', 'green']\n",
      "sizes: [20516 13006  5721]  , clrs:  ['blue', 'red', 'green']\n",
      "sizes: [1079 1067 1044]  , clrs:  ['blue', 'red', 'green']\n",
      "sizes: [16106 10801  1069]  , clrs:  ['blue', 'red', 'green']\n"
     ]
    }
   ],
   "source": [
    "# Make Pie Charts from results;\n",
    "if True:\n",
    "    n_matches = 3\n",
    "    matcher.make_pie_charts(n_matches)\n",
    "    "
   ]
  },
  {
   "cell_type": "code",
   "execution_count": 5,
   "metadata": {
    "scrolled": true
   },
   "outputs": [
    {
     "name": "stdout",
     "output_type": "stream",
     "text": [
      " ground truth templates:  (50, 101, 384)\n",
      " ground truth templates:  (50, 101, 384)\n",
      " ground truth templates:  (50, 101, 384)\n",
      " ground truth templates:  (50, 101, 384)\n"
     ]
    },
    {
     "name": "stderr",
     "output_type": "stream",
     "text": [
      "/home/cat/anaconda3/lib/python3.7/site-packages/parmap/parmap.py:131: UserWarning: daemonic processes are not allowed to have children\n",
      "  warnings.warn(str(exc))\n",
      "/home/cat/anaconda3/lib/python3.7/site-packages/parmap/parmap.py:131: UserWarning: daemonic processes are not allowed to have children\n",
      "  warnings.warn(str(exc))\n",
      "/home/cat/anaconda3/lib/python3.7/site-packages/parmap/parmap.py:131: UserWarning: daemonic processes are not allowed to have children\n",
      "  warnings.warn(str(exc))\n",
      "/home/cat/anaconda3/lib/python3.7/site-packages/parmap/parmap.py:131: UserWarning: daemonic processes are not allowed to have children\n",
      "  warnings.warn(str(exc))\n"
     ]
    },
    {
     "name": "stdout",
     "output_type": "stream",
     "text": [
      "matched_units:  [  0   1   2   3   4   5   6   7   8   9  10  11  12  13  14  15  16  17\n",
      "  18  19  20  21  22  23  24  25  26  27  28  29  30  31  32  33  34  35\n",
      "  36  37  38  39  40  41  42  43  44  45  46  47  48  49  50  51  52  53\n",
      "  54  55  56  57  58  59  60  61  62  63  64  65  66  67  68  69  70  71\n",
      "  72  73  74  75  76  77  78  79  80  81  82  83  84  85  86  87  88  89\n",
      "  90  91  92  93  94  95  96  97  98  99 100 101 102 103 104 105 106 107\n",
      " 108]matched_units:  [  0   1   2   3   4   5   6   7   8   9  10  11  12  13  14  15  16  17\n",
      "  18  19  20  21  22  23  24  25  26  27  28  29  30  31  32  33  34  35\n",
      "  36  37  38  39  40  41  42  43  44  45  46  47  48  49  50  51  52  53\n",
      "  54  55  56  57  58  59  60  61  62  63  64  65  66  67  68  69  70  71\n",
      "  72  73  74  75  76  77  78  79  80  81  82  83  84  85  86  87  88  89\n",
      "  90  91  92  93  94  95  96  97  98  99 100 101 102 103 104 105 106 107\n",
      " 108]\n",
      "\n",
      " unit:  0 , matching unit:  57 57\n",
      " unit:  4 , matching unit:  20 20\n",
      "matched_units:  [  0   1   2   3   4   5   6   7   8   9  10  11  12  13  14  15  16  17\n",
      "  18  19  20  21  22  23  24  25  26  27  28  29  30  31  32  33  34  35\n",
      "  36  37  38  39  40  41  42  43  44  45  46  47  48  49  50  51  52  53\n",
      "  54  55  56  57  58  59  60  61  62  63  64  65  66  67  68  69  70  71\n",
      "  72  73  74  75  76  77  78  79  80  81  82  83  84  85  86  87  88  89\n",
      "  90  91  92  93  94  95  96  97  98  99 100 101 102 103 104 105 106 107\n",
      " 108]\n",
      " unit:  8 , matching unit:  20 20\n",
      "matched_units:  [  0   1   2   3   4   5   6   7   8   9  10  11  12  13  14  15  16  17\n",
      "  18  19  20  21  22  23  24  25  26  27  28  29  30  31  32  33  34  35\n",
      "  36  37  38  39  40  41  42  43  44  45  46  47  48  49  50  51  52  53\n",
      "  54  55  56  57  58  59  60  61  62  63  64  65  66  67  68  69  70  71\n",
      "  72  73  74  75  76  77  78  79  80  81  82  83  84  85  86  87  88  89\n",
      "  90  91  92  93  94  95  96  97  98  99 100 101 102 103 104 105 106 107\n",
      " 108]\n",
      " unit:  12 , matching unit:  99 99\n",
      "\n",
      " unit:  4 , matching unit:  86 86\n",
      "\n",
      " unit:  8 , matching unit:  46 46\n",
      "\n",
      " unit:  12 , matching unit:  83 83\n",
      "\n",
      " unit:  0 , matching unit:  62 62\n",
      "\n",
      " unit:  4 , matching unit:  64 64\n",
      "\n",
      " unit:  8 , matching unit:  64 64\n",
      "\n",
      " unit:  12 , matching unit:  20 20\n",
      "\n",
      " unit:  0 , matching unit:  58 58\n",
      "\n",
      " loading injected unit:  12\n",
      "\n",
      " loading injected unit:  0\n",
      "\n",
      " loading injected unit:  4\n",
      "\n",
      " loading injected unit:  8\n",
      " ground truth wfs:  (33896, 101, 384)\n",
      "len ptpssorted:  3\n",
      "rec len sec:  600\n",
      " ground truth templates:  (50, 101, 384)\n"
     ]
    },
    {
     "name": "stderr",
     "output_type": "stream",
     "text": [
      "/home/cat/anaconda3/lib/python3.7/site-packages/parmap/parmap.py:131: UserWarning: daemonic processes are not allowed to have children\n",
      "  warnings.warn(str(exc))\n"
     ]
    },
    {
     "name": "stdout",
     "output_type": "stream",
     "text": [
      " ground truth wfs:  (33624, 101, 384)\n",
      " ground truth wfs:  (30391, 101, 384)\n",
      "len ptpssorted:  3\n",
      "matched_units:  [  0   1   2   3   4   5   6   7   8   9  10  11  12  13  14  15  16  17\n",
      "  18  19  20  21  22  23  24  25  26  27  28  29  30  31  32  33  34  35\n",
      "  36  37  38  39  40  41  42  43  44  45  46  47  48  49  50  51  52  53\n",
      "  54  55  56  57  58  59  60  61  62  63  64  65  66  67  68  69  70  71\n",
      "  72  73  74  75  76  77  78  79  80  81  82  83  84  85  86  87  88  89\n",
      "  90  91  92  93  94  95  96  97  98  99 100 101 102 103 104 105 106 107\n",
      " 108]\n",
      " unit:  1 , matching unit:  46 46\n",
      "len ptpssorted:  3\n",
      "rec len sec:  600\n",
      "rec len sec:  600\n",
      " ground truth wfs:  (39718, 101, 384)\n",
      "len ptpssorted:  3\n",
      " ground truth templates:  (50, 101, 384)\n"
     ]
    },
    {
     "name": "stderr",
     "output_type": "stream",
     "text": [
      "/home/cat/anaconda3/lib/python3.7/site-packages/parmap/parmap.py:131: UserWarning: daemonic processes are not allowed to have children\n",
      "  warnings.warn(str(exc))\n"
     ]
    },
    {
     "name": "stdout",
     "output_type": "stream",
     "text": [
      " ground truth templates:  (50, 101, 384)\n"
     ]
    },
    {
     "name": "stderr",
     "output_type": "stream",
     "text": [
      "/home/cat/anaconda3/lib/python3.7/site-packages/parmap/parmap.py:131: UserWarning: daemonic processes are not allowed to have children\n",
      "  warnings.warn(str(exc))\n"
     ]
    },
    {
     "name": "stdout",
     "output_type": "stream",
     "text": [
      "rec len sec:  600\n",
      "matched_units:  [  0   1   2   3   4   5   6   7   8   9  10  11  12  13  14  15  16  17\n",
      "  18  19  20  21  22  23  24  25  26  27  28  29  30  31  32  33  34  35\n",
      "  36  37  38  39  40  41  42  43  44  45  46  47  48  49  50  51  52  53\n",
      "  54  55  56  57  58  59  60  61  62  63  64  65  66  67  68  69  70  71\n",
      "  72  73  74  75  76  77  78  79  80  81  82  83  84  85  86  87  88  89\n",
      "  90  91  92  93  94  95  96  97  98  99 100 101 102 103 104 105 106 107\n",
      " 108]\n",
      " unit:  13 , matching unit:  32 32\n",
      "matched_units:  [  0   1   2   3   4   5   6   7   8   9  10  11  12  13  14  15  16  17\n",
      "  18  19  20  21  22  23  24  25  26  27  28  29  30  31  32  33  34  35\n",
      "  36  37  38  39  40  41  42  43  44  45  46  47  48  49  50  51  52  53\n",
      "  54  55  56  57  58  59  60  61  62  63  64  65  66  67  68  69  70  71\n",
      "  72  73  74  75  76  77  78  79  80  81  82  83  84  85  86  87  88  89\n",
      "  90  91  92  93  94  95  96  97  98  99 100 101 102 103 104 105 106 107\n",
      " 108]\n",
      " unit:  5 , matching unit:  104 104\n",
      " ground truth templates:  (50, 101, 384)\n"
     ]
    },
    {
     "name": "stderr",
     "output_type": "stream",
     "text": [
      "/home/cat/anaconda3/lib/python3.7/site-packages/parmap/parmap.py:131: UserWarning: daemonic processes are not allowed to have children\n",
      "  warnings.warn(str(exc))\n"
     ]
    },
    {
     "name": "stdout",
     "output_type": "stream",
     "text": [
      "matched_units:  [  0   1   2   3   4   5   6   7   8   9  10  11  12  13  14  15  16  17\n",
      "  18  19  20  21  22  23  24  25  26  27  28  29  30  31  32  33  34  35\n",
      "  36  37  38  39  40  41  42  43  44  45  46  47  48  49  50  51  52  53\n",
      "  54  55  56  57  58  59  60  61  62  63  64  65  66  67  68  69  70  71\n",
      "  72  73  74  75  76  77  78  79  80  81  82  83  84  85  86  87  88  89\n",
      "  90  91  92  93  94  95  96  97  98  99 100 101 102 103 104 105 106 107\n",
      " 108]\n",
      " unit:  9 , matching unit:  27 27\n",
      "\n",
      " unit:  1 , matching unit:  42 42\n",
      "\n",
      " unit:  5 , matching unit:  96 96\n",
      "\n",
      " unit:  1 , matching unit:  92 92\n",
      "\n",
      " unit:  13 , matching unit:  38 38\n",
      "\n",
      " unit:  5 , matching unit:  20 20\n",
      "\n",
      " unit:  13 , matching unit:  64 64\n",
      "\n",
      " loading injected unit:  1\n",
      "\n",
      " unit:  9 , matching unit:  22 22\n",
      "\n",
      " unit:  9 , matching unit:  46 46\n",
      " ground truth wfs:  (37123, 101, 384)\n",
      "\n",
      " loading injected unit:  13\n",
      "\n",
      " loading injected unit:  5\n",
      "len ptpssorted:  3\n",
      "rec len sec:  600\n",
      "\n",
      " loading injected unit:  9\n",
      " ground truth templates:  (50, 101, 384)\n"
     ]
    },
    {
     "name": "stderr",
     "output_type": "stream",
     "text": [
      "/home/cat/anaconda3/lib/python3.7/site-packages/parmap/parmap.py:131: UserWarning: daemonic processes are not allowed to have children\n",
      "  warnings.warn(str(exc))\n"
     ]
    },
    {
     "name": "stdout",
     "output_type": "stream",
     "text": [
      "matched_units:  [  0   1   2   3   4   5   6   7   8   9  10  11  12  13  14  15  16  17\n",
      "  18  19  20  21  22  23  24  25  26  27  28  29  30  31  32  33  34  35\n",
      "  36  37  38  39  40  41  42  43  44  45  46  47  48  49  50  51  52  53\n",
      "  54  55  56  57  58  59  60  61  62  63  64  65  66  67  68  69  70  71\n",
      "  72  73  74  75  76  77  78  79  80  81  82  83  84  85  86  87  88  89\n",
      "  90  91  92  93  94  95  96  97  98  99 100 101 102 103 104 105 106 107\n",
      " 108]\n",
      " unit:  2 , matching unit:  60 60\n",
      " ground truth wfs:  (31124, 101, 384)\n",
      " ground truth wfs:  (25728, 101, 384)\n",
      "len ptpssorted:  3\n",
      "len ptpssorted:  3\n",
      "rec len sec:  600\n",
      "rec len sec:  600\n",
      "\n",
      " unit:  2 , matching unit:  55 55\n",
      " ground truth templates:  (50, 101, 384)\n"
     ]
    },
    {
     "name": "stderr",
     "output_type": "stream",
     "text": [
      "/home/cat/anaconda3/lib/python3.7/site-packages/parmap/parmap.py:131: UserWarning: daemonic processes are not allowed to have children\n",
      "  warnings.warn(str(exc))\n"
     ]
    },
    {
     "name": "stdout",
     "output_type": "stream",
     "text": [
      " ground truth templates:  (50, 101, 384)\n"
     ]
    },
    {
     "name": "stderr",
     "output_type": "stream",
     "text": [
      "/home/cat/anaconda3/lib/python3.7/site-packages/parmap/parmap.py:131: UserWarning: daemonic processes are not allowed to have children\n",
      "  warnings.warn(str(exc))\n"
     ]
    },
    {
     "name": "stdout",
     "output_type": "stream",
     "text": [
      " ground truth wfs:  (30675, 101, 384)\n",
      "matched_units:  [  0   1   2   3   4   5   6   7   8   9  10  11  12  13  14  15  16  17\n",
      "  18  19  20  21  22  23  24  25  26  27  28  29  30  31  32  33  34  35\n",
      "  36  37  38  39  40  41  42  43  44  45  46  47  48  49  50  51  52  53\n",
      "  54  55  56  57  58  59  60  61  62  63  64  65  66  67  68  69  70  71\n",
      "  72  73  74  75  76  77  78  79  80  81  82  83  84  85  86  87  88  89\n",
      "  90  91  92  93  94  95  96  97  98  99 100 101 102 103 104 105 106 107\n",
      " 108]\n",
      " unit:  14 , matching unit:  75 75\n",
      "len ptpssorted:  3\n",
      "matched_units:  [  0   1   2   3   4   5   6   7   8   9  10  11  12  13  14  15  16  17\n",
      "  18  19  20  21  22  23  24  25  26  27  28  29  30  31  32  33  34  35\n",
      "  36  37  38  39  40  41  42  43  44  45  46  47  48  49  50  51  52  53\n",
      "  54  55  56  57  58  59  60  61  62  63  64  65  66  67  68  69  70  71\n",
      "  72  73  74  75  76  77  78  79  80  81  82  83  84  85  86  87  88  89\n",
      "  90  91  92  93  94  95  96  97  98  99 100 101 102 103 104 105 106 107\n",
      " 108]\n",
      " unit:  10 , matching unit:  82 82\n",
      "rec len sec:  600\n",
      " ground truth templates:  (50, 101, 384)\n"
     ]
    },
    {
     "name": "stderr",
     "output_type": "stream",
     "text": [
      "/home/cat/anaconda3/lib/python3.7/site-packages/parmap/parmap.py:131: UserWarning: daemonic processes are not allowed to have children\n",
      "  warnings.warn(str(exc))\n"
     ]
    },
    {
     "name": "stdout",
     "output_type": "stream",
     "text": [
      "\n",
      " unit:  2 , matching unit:  95 95\n",
      "matched_units:  [  0   1   2   3   4   5   6   7   8   9  10  11  12  13  14  15  16  17\n",
      "  18  19  20  21  22  23  24  25  26  27  28  29  30  31  32  33  34  35\n",
      "  36  37  38  39  40  41  42  43  44  45  46  47  48  49  50  51  52  53\n",
      "  54  55  56  57  58  59  60  61  62  63  64  65  66  67  68  69  70  71\n",
      "  72  73  74  75  76  77  78  79  80  81  82  83  84  85  86  87  88  89\n",
      "  90  91  92  93  94  95  96  97  98  99 100 101 102 103 104 105 106 107\n",
      " 108]\n",
      " unit:  6 , matching unit:  8 8\n",
      "\n",
      " loading injected unit:  2\n",
      " ground truth wfs:  (28201, 101, 384)\n",
      "len ptpssorted:  3\n",
      "rec len sec:  600\n",
      "\n",
      " unit:  10 , matching unit:  81 81\n",
      "\n",
      " unit:  14 , matching unit:  76 76\n",
      " ground truth templates:  (50, 101, 384)\n"
     ]
    },
    {
     "name": "stderr",
     "output_type": "stream",
     "text": [
      "/home/cat/anaconda3/lib/python3.7/site-packages/parmap/parmap.py:131: UserWarning: daemonic processes are not allowed to have children\n",
      "  warnings.warn(str(exc))\n"
     ]
    },
    {
     "name": "stdout",
     "output_type": "stream",
     "text": [
      "matched_units:  [  0   1   2   3   4   5   6   7   8   9  10  11  12  13  14  15  16  17\n",
      "  18  19  20  21  22  23  24  25  26  27  28  29  30  31  32  33  34  35\n",
      "  36  37  38  39  40  41  42  43  44  45  46  47  48  49  50  51  52  53\n",
      "  54  55  56  57  58  59  60  61  62  63  64  65  66  67  68  69  70  71\n",
      "  72  73  74  75  76  77  78  79  80  81  82  83  84  85  86  87  88  89\n",
      "  90  91  92  93  94  95  96  97  98  99 100 101 102 103 104 105 106 107\n",
      " 108]\n",
      " unit:  3 , matching unit:  41 41\n",
      "\n",
      " unit:  6 , matching unit:  7 7\n",
      "\n",
      " unit:  6 , matching unit:  20 20\n",
      "\n",
      " unit:  3 , matching unit:  44 44\n",
      "\n",
      " unit:  14 , matching unit:  45 45\n",
      "\n",
      " unit:  10 , matching unit:  29 29\n",
      "\n",
      " loading injected unit:  10\n",
      "\n",
      " loading injected unit:  14\n",
      "\n",
      " loading injected unit:  6\n",
      "\n",
      " unit:  3 , matching unit:  20 20\n",
      " ground truth wfs:  (29571, 101, 384)\n",
      "len ptpssorted:  3\n",
      "rec len sec:  600\n",
      " ground truth templates:  (50, 101, 384)\n"
     ]
    },
    {
     "name": "stderr",
     "output_type": "stream",
     "text": [
      "/home/cat/anaconda3/lib/python3.7/site-packages/parmap/parmap.py:131: UserWarning: daemonic processes are not allowed to have children\n",
      "  warnings.warn(str(exc))\n"
     ]
    },
    {
     "name": "stdout",
     "output_type": "stream",
     "text": [
      "matched_units:  [  0   1   2   3   4   5   6   7   8   9  10  11  12  13  14  15  16  17\n",
      "  18  19  20  21  22  23  24  25  26  27  28  29  30  31  32  33  34  35\n",
      "  36  37  38  39  40  41  42  43  44  45  46  47  48  49  50  51  52  53\n",
      "  54  55  56  57  58  59  60  61  62  63  64  65  66  67  68  69  70  71\n",
      "  72  73  74  75  76  77  78  79  80  81  82  83  84  85  86  87  88  89\n",
      "  90  91  92  93  94  95  96  97  98  99 100 101 102 103 104 105 106 107\n",
      " 108]\n",
      " unit:  7 , matching unit:  53 53\n",
      "\n",
      " ground truth wfs:  (34974, 101, 384)\n",
      " loading injected unit:  3\n",
      " ground truth wfs:  (35404, 101, 384)\n",
      "len ptpssorted:  3\n",
      "len ptpssorted:  3\n",
      "rec len sec:  600\n",
      "rec len sec:  600\n",
      " ground truth templates:  (50, 101, 384)\n"
     ]
    },
    {
     "name": "stderr",
     "output_type": "stream",
     "text": [
      "/home/cat/anaconda3/lib/python3.7/site-packages/parmap/parmap.py:131: UserWarning: daemonic processes are not allowed to have children\n",
      "  warnings.warn(str(exc))\n"
     ]
    },
    {
     "name": "stdout",
     "output_type": "stream",
     "text": [
      " ground truth templates:  (50, 101, 384)\n"
     ]
    },
    {
     "name": "stderr",
     "output_type": "stream",
     "text": [
      "/home/cat/anaconda3/lib/python3.7/site-packages/parmap/parmap.py:131: UserWarning: daemonic processes are not allowed to have children\n",
      "  warnings.warn(str(exc))\n"
     ]
    },
    {
     "name": "stdout",
     "output_type": "stream",
     "text": [
      "matched_units:  [  0   1   2   3   4   5   6   7   8   9  10  11  12  13  14  15  16  17\n",
      "  18  19  20  21  22  23  24  25  26  27  28  29  30  31  32  33  34  35\n",
      "  36  37  38  39  40  41  42  43  44  45  46  47  48  49  50  51  52  53\n",
      "  54  55  56  57  58  59  60  61  62  63  64  65  66  67  68  69  70  71\n",
      "  72  73  74  75  76  77  78  79  80  81  82  83  84  85  86  87  88  89\n",
      "  90  91  92  93  94  95  96  97  98  99 100 101 102 103 104 105 106 107\n",
      " 108]\n",
      " unit:  11 , matching unit:  62 62\n",
      "matched_units:  [  0   1   2   3   4   5   6   7   8   9  10  11  12  13  14  15  16  17\n",
      "  18  19  20  21  22  23  24  25  26  27  28  29  30  31  32  33  34  35\n",
      "  36  37  38  39  40  41  42  43  44  45  46  47  48  49  50  51  52  53\n",
      "  54  55  56  57  58  59  60  61  62  63  64  65  66  67  68  69  70  71\n",
      "  72  73  74  75  76  77  78  79  80  81  82  83  84  85  86  87  88  89\n",
      "  90  91  92  93  94  95  96  97  98  99 100 101 102 103 104 105 106 107\n",
      " 108]\n",
      " unit:  15 , matching unit:  70 70\n",
      " ground truth wfs:  (29335, 101, 384)\n",
      "len ptpssorted:  3\n",
      "rec len sec:  600\n",
      " ground truth templates:  (50, 101, 384)\n"
     ]
    },
    {
     "name": "stderr",
     "output_type": "stream",
     "text": [
      "/home/cat/anaconda3/lib/python3.7/site-packages/parmap/parmap.py:131: UserWarning: daemonic processes are not allowed to have children\n",
      "  warnings.warn(str(exc))\n"
     ]
    },
    {
     "name": "stdout",
     "output_type": "stream",
     "text": [
      "\n",
      " unit:  11 , matching unit:  64 64\n",
      "matched_units:  [  0   1   2   3   4   5   6   7   8   9  10  11  12  13  14  15  16  17\n",
      "  18  19  20  21  22  23  24  25  26  27  28  29  30  31  32  33  34  35\n",
      "  36  37  38  39  40  41  42  43  44  45  46  47  48  49  50  51  52  53\n",
      "  54  55  56  57  58  59  60  61  62  63  64  65  66  67  68  69  70  71\n",
      "  72  73  74  75  76  77  78  79  80  81  82  83  84  85  86  87  88  89\n",
      "  90  91  92  93  94  95  96  97  98  99 100 101 102 103 104 105 106 107\n",
      " 108]\n",
      " unit:  16 , matching unit:  97 97\n",
      "\n",
      " unit:  15 , matching unit:  71 71\n",
      "\n",
      " unit:  7 , matching unit:  93 93\n",
      "\n",
      " unit:  16 , matching unit:  20 20\n",
      "\n",
      " unit:  11 , matching unit:  20 20\n",
      "\n",
      " unit:  7 , matching unit:  52 52\n",
      "\n",
      " loading injected unit:  7\n",
      "\n",
      " unit:  15 , matching unit:  69 69\n",
      "\n",
      "\n",
      " loading injected unit:  11\n",
      " unit:  16 , matching unit:  46 46\n",
      "\n",
      " loading injected unit:  15\n",
      " ground truth wfs:  (32910, 101, 384)\n",
      "len ptpssorted:  3\n",
      "rec len sec:  600\n",
      " ground truth templates:  (50, 101, 384)\n"
     ]
    },
    {
     "name": "stderr",
     "output_type": "stream",
     "text": [
      "/home/cat/anaconda3/lib/python3.7/site-packages/parmap/parmap.py:131: UserWarning: daemonic processes are not allowed to have children\n",
      "  warnings.warn(str(exc))\n"
     ]
    },
    {
     "name": "stdout",
     "output_type": "stream",
     "text": [
      "matched_units:  [  0   1   2   3   4   5   6   7   8   9  10  11  12  13  14  15  16  17\n",
      "  18  19  20  21  22  23  24  25  26  27  28  29  30  31  32  33  34  35\n",
      "  36  37  38  39  40  41  42  43  44  45  46  47  48  49  50  51  52  53\n",
      "  54  55  56  57  58  59  60  61  62  63  64  65  66  67  68  69  70  71\n",
      "  72  73  74  75  76  77  78  79  80  81  82  83  84  85  86  87  88  89\n",
      "  90  91  92  93  94  95  96  97  98  99 100 101 102 103 104 105 106 107\n",
      " 108]\n",
      " unit:  20 , matching unit:  20 20\n",
      " ground truth wfs:  (28201, 101, 384)\n",
      "len ptpssorted:  3\n",
      "rec len sec:  600\n",
      " ground truth templates:  (50, 101, 384)\n",
      "\n",
      " unit:  20 , matching unit:  86 86\n"
     ]
    },
    {
     "name": "stderr",
     "output_type": "stream",
     "text": [
      "/home/cat/anaconda3/lib/python3.7/site-packages/parmap/parmap.py:131: UserWarning: daemonic processes are not allowed to have children\n",
      "  warnings.warn(str(exc))\n"
     ]
    },
    {
     "name": "stdout",
     "output_type": "stream",
     "text": [
      "matched_units:  [  0   1   2   3   4   5   6   7   8   9  10  11  12  13  14  15  16  17\n",
      "  18  19  20  21  22  23  24  25  26  27  28  29  30  31  32  33  34  35\n",
      "  36  37  38  39  40  41  42  43  44  45  46  47  48  49  50  51  52  53\n",
      "  54  55  56  57  58  59  60  61  62  63  64  65  66  67  68  69  70  71\n",
      "  72  73  74  75  76  77  78  79  80  81  82  83  84  85  86  87  88  89\n",
      "  90  91  92  93  94  95  96  97  98  99 100 101 102 103 104 105 106 107\n",
      " 108]\n",
      " unit:  24 , matching unit:  85 85\n",
      "\n",
      " loading injected unit:  16\n",
      " ground truth wfs:  (31700, 101, 384)\n",
      "len ptpssorted:  3\n",
      "rec len sec:  600\n",
      " ground truth templates:  (50, 101, 384)\n"
     ]
    },
    {
     "name": "stderr",
     "output_type": "stream",
     "text": [
      "/home/cat/anaconda3/lib/python3.7/site-packages/parmap/parmap.py:131: UserWarning: daemonic processes are not allowed to have children\n",
      "  warnings.warn(str(exc))\n"
     ]
    },
    {
     "name": "stdout",
     "output_type": "stream",
     "text": [
      "matched_units:  [  0   1   2   3   4   5   6   7   8   9  10  11  12  13  14  15  16  17\n",
      "  18  19  20  21  22  23  24  25  26  27  28  29  30  31  32  33  34  35\n",
      "  36  37  38  39  40  41  42  43  44  45  46  47  48  49  50  51  52  53\n",
      "  54  55  56  57  58  59  60  61  62  63  64  65  66  67  68  69  70  71\n",
      "  72  73  74  75  76  77  78  79  80  81  82  83  84  85  86  87  88  89\n",
      "  90  91  92  93  94  95  96  97  98  99 100 101 102 103 104 105 106 107\n",
      " 108]\n",
      " unit:  28 , matching unit:  86 86\n",
      "\n",
      " unit:  20 , matching unit:  64 64\n",
      " ground truth wfs:  (28798, 101, 384)\n",
      "len ptpssorted:  3\n",
      "rec len sec:  600\n",
      "\n",
      " unit:  24 , matching unit:  11 11\n",
      " ground truth templates:  (50, 101, 384)\n"
     ]
    },
    {
     "name": "stderr",
     "output_type": "stream",
     "text": [
      "/home/cat/anaconda3/lib/python3.7/site-packages/parmap/parmap.py:131: UserWarning: daemonic processes are not allowed to have children\n",
      "  warnings.warn(str(exc))\n"
     ]
    },
    {
     "name": "stdout",
     "output_type": "stream",
     "text": [
      "\n",
      " unit:  28 , matching unit:  20 20\n",
      "matched_units:  [  0   1   2   3   4   5   6   7   8   9  10  11  12  13  14  15  16  17\n",
      "  18  19  20  21  22  23  24  25  26  27  28  29  30  31  32  33  34  35\n",
      "  36  37  38  39  40  41  42  43  44  45  46  47  48  49  50  51  52  53\n",
      "  54  55  56  57  58  59  60  61  62  63  64  65  66  67  68  69  70  71\n",
      "  72  73  74  75  76  77  78  79  80  81  82  83  84  85  86  87  88  89\n",
      "  90  91  92  93  94  95  96  97  98  99 100 101 102 103 104 105 106 107\n",
      " 108]\n",
      " unit:  17 , matching unit:  66 66\n",
      "\n",
      " loading injected unit:  20\n",
      "\n",
      " unit:  28 , matching unit:  64 64\n",
      "\n",
      " unit:  24 , matching unit:  13 13\n",
      "\n",
      " loading injected unit:  28\n",
      "\n",
      " unit:  17 , matching unit:  65 65\n",
      "\n",
      " loading injected unit:  24\n",
      " ground truth wfs:  (34836, 101, 384)\n",
      " ground truth wfs:  (35536, 101, 384)\n",
      "len ptpssorted:  3\n",
      "\n",
      " unit:  17 , matching unit:  46 46\n",
      "rec len sec:  600\n",
      "len ptpssorted:  3\n",
      "rec len sec:  600\n",
      " ground truth templates:  (50, 101, 384)\n"
     ]
    },
    {
     "name": "stderr",
     "output_type": "stream",
     "text": [
      "/home/cat/anaconda3/lib/python3.7/site-packages/parmap/parmap.py:131: UserWarning: daemonic processes are not allowed to have children\n",
      "  warnings.warn(str(exc))\n"
     ]
    },
    {
     "name": "stdout",
     "output_type": "stream",
     "text": [
      " ground truth templates:  (50, 101, 384)\n"
     ]
    },
    {
     "name": "stderr",
     "output_type": "stream",
     "text": [
      "/home/cat/anaconda3/lib/python3.7/site-packages/parmap/parmap.py:131: UserWarning: daemonic processes are not allowed to have children\n",
      "  warnings.warn(str(exc))\n"
     ]
    },
    {
     "name": "stdout",
     "output_type": "stream",
     "text": [
      "matched_units:  [  0   1   2   3   4   5   6   7   8   9  10  11  12  13  14  15  16  17\n",
      "  18  19  20  21  22  23  24  25  26  27  28  29  30  31  32  33  34  35\n",
      "  36  37  38  39  40  41  42  43  44  45  46  47  48  49  50  51  52  53\n",
      "  54  55  56  57  58  59  60  61  62  63  64  65  66  67  68  69  70  71\n",
      "  72  73  74  75  76  77  78  79  80  81  82  83  84  85  86  87  88  89\n",
      "  90  91  92  93  94  95  96  97  98  99 100 101 102 103 104 105 106 107\n",
      " 108]\n",
      " unit:  21 , matching unit:  67 67\n",
      "matched_units:  [  0   1   2   3   4   5   6   7   8   9  10  11  12  13  14  15  16  17\n",
      "  18  19  20  21  22  23  24  25  26  27  28  29  30  31  32  33  34  35\n",
      "  36  37  38  39  40  41  42  43  44  45  46  47  48  49  50  51  52  53\n",
      "  54  55  56  57  58  59  60  61  62  63  64  65  66  67  68  69  70  71\n",
      "  72  73  74  75  76  77  78  79  80  81  82  83  84  85  86  87  88  89\n",
      "  90  91  92  93  94  95  96  97  98  99 100 101 102 103 104 105 106 107\n",
      " 108]\n",
      " unit:  25 , matching unit:  31 31\n",
      " ground truth wfs:  (31822, 101, 384)\n",
      "len ptpssorted:  3\n",
      "rec len sec:  600\n",
      " ground truth templates:  (50, 101, 384)\n"
     ]
    },
    {
     "name": "stderr",
     "output_type": "stream",
     "text": [
      "/home/cat/anaconda3/lib/python3.7/site-packages/parmap/parmap.py:131: UserWarning: daemonic processes are not allowed to have children\n",
      "  warnings.warn(str(exc))\n"
     ]
    },
    {
     "name": "stdout",
     "output_type": "stream",
     "text": [
      "matched_units:  [  0   1   2   3   4   5   6   7   8   9  10  11  12  13  14  15  16  17\n",
      "  18  19  20  21  22  23  24  25  26  27  28  29  30  31  32  33  34  35\n",
      "  36  37  38  39  40  41  42  43  44  45  46  47  48  49  50  51  52  53\n",
      "  54  55  56  57  58  59  60  61  62  63  64  65  66  67  68  69  70  71\n",
      "  72  73  74  75  76  77  78  79  80  81  82  83  84  85  86  87  88  89\n",
      "  90  91  92  93  94  95  96  97  98  99 100 101 102 103 104 105 106 107\n",
      " 108]\n",
      " unit:  29 , matching unit:  87 87\n",
      "\n",
      " loading injected unit:  17\n",
      "\n",
      " unit:  25 , matching unit:  89 89\n",
      "\n",
      " unit:  21 , matching unit:  63 63\n",
      " ground truth wfs:  (26565, 101, 384)\n",
      "\n",
      " unit:  29 , matching unit:  16 16\n",
      "len ptpssorted:  3\n",
      "rec len sec:  600\n",
      " ground truth templates:  (50, 101, 384)\n"
     ]
    },
    {
     "name": "stderr",
     "output_type": "stream",
     "text": [
      "/home/cat/anaconda3/lib/python3.7/site-packages/parmap/parmap.py:131: UserWarning: daemonic processes are not allowed to have children\n",
      "  warnings.warn(str(exc))\n"
     ]
    },
    {
     "name": "stdout",
     "output_type": "stream",
     "text": [
      "matched_units:  [  0   1   2   3   4   5   6   7   8   9  10  11  12  13  14  15  16  17\n",
      "  18  19  20  21  22  23  24  25  26  27  28  29  30  31  32  33  34  35\n",
      "  36  37  38  39  40  41  42  43  44  45  46  47  48  49  50  51  52  53\n",
      "  54  55  56  57  58  59  60  61  62  63  64  65  66  67  68  69  70  71\n",
      "  72  73  74  75  76  77  78  79  80  81  82  83  84  85  86  87  88  89\n",
      "  90  91  92  93  94  95  96  97  98  99 100 101 102 103 104 105 106 107\n",
      " 108]\n",
      " unit:  18 , matching unit:  45 45\n",
      "\n",
      " unit:  21 , matching unit:  100 100\n",
      "\n",
      " loading injected unit:  21\n",
      "\n",
      " unit:  25 , matching unit:  20 20\n",
      " ground truth wfs:  (23778, 101, 384)\n",
      "len ptpssorted:  3\n",
      "rec len sec:  600\n",
      " ground truth templates:  (50, 101, 384)\n"
     ]
    },
    {
     "name": "stderr",
     "output_type": "stream",
     "text": [
      "/home/cat/anaconda3/lib/python3.7/site-packages/parmap/parmap.py:131: UserWarning: daemonic processes are not allowed to have children\n",
      "  warnings.warn(str(exc))\n"
     ]
    },
    {
     "name": "stdout",
     "output_type": "stream",
     "text": [
      "matched_units:  [  0   1   2   3   4   5   6   7   8   9  10  11  12  13  14  15  16  17\n",
      "  18  19  20  21  22  23  24  25  26  27  28  29  30  31  32  33  34  35\n",
      "  36  37  38  39  40  41  42  43  44  45  46  47  48  49  50  51  52  53\n",
      "  54  55  56  57  58  59  60  61  62  63  64  65  66  67  68  69  70  71\n",
      "  72  73  74  75  76  77  78  79  80  81  82  83  84  85  86  87  88  89\n",
      "  90  91  92  93  94  95  96  97  98  99 100 101 102 103 104 105 106 107\n",
      " 108]\n",
      " unit:  22 , matching unit:  78 78\n",
      "\n",
      " unit:  29 , matching unit:  68 68\n",
      "\n",
      " unit:  18 , matching unit:  50 50\n",
      "\n",
      " loading injected unit:  25\n",
      "\n",
      " unit:  22 , matching unit:  101 101\n",
      " ground truth wfs:  (27493, 101, 384)\n",
      "len ptpssorted:  3\n",
      "rec len sec:  600\n",
      "\n",
      " unit:  18 , matching unit:  47 47\n",
      "\n",
      " loading injected unit:  29\n",
      " ground truth templates:  (50, 101, 384)\n"
     ]
    },
    {
     "name": "stderr",
     "output_type": "stream",
     "text": [
      "/home/cat/anaconda3/lib/python3.7/site-packages/parmap/parmap.py:131: UserWarning: daemonic processes are not allowed to have children\n",
      "  warnings.warn(str(exc))\n"
     ]
    },
    {
     "name": "stdout",
     "output_type": "stream",
     "text": [
      "\n",
      " loading injected unit:  18\n",
      "matched_units:  [  0   1   2   3   4   5   6   7   8   9  10  11  12  13  14  15  16  17\n",
      "  18  19  20  21  22  23  24  25  26  27  28  29  30  31  32  33  34  35\n",
      "  36  37  38  39  40  41  42  43  44  45  46  47  48  49  50  51  52  53\n",
      "  54  55  56  57  58  59  60  61  62  63  64  65  66  67  68  69  70  71\n",
      "  72  73  74  75  76  77  78  79  80  81  82  83  84  85  86  87  88  89\n",
      "  90  91  92  93  94  95  96  97  98  99 100 101 102 103 104 105 106 107\n",
      " 108]\n",
      " unit:  26 , matching unit:  49 49\n",
      "\n",
      " unit:  22 , matching unit:  46 46\n",
      " ground truth wfs:  (30837, 101, 384)\n",
      "len ptpssorted:  3\n",
      "rec len sec:  600\n",
      " ground truth templates:  (50, 101, 384)\n"
     ]
    },
    {
     "name": "stderr",
     "output_type": "stream",
     "text": [
      "/home/cat/anaconda3/lib/python3.7/site-packages/parmap/parmap.py:131: UserWarning: daemonic processes are not allowed to have children\n",
      "  warnings.warn(str(exc))\n"
     ]
    },
    {
     "name": "stdout",
     "output_type": "stream",
     "text": [
      "matched_units:  [  0   1   2   3   4   5   6   7   8   9  10  11  12  13  14  15  16  17\n",
      "  18  19  20  21  22  23  24  25  26  27  28  29  30  31  32  33  34  35\n",
      "  36  37  38  39  40  41  42  43  44  45  46  47  48  49  50  51  52  53\n",
      "  54  55  56  57  58  59  60  61  62  63  64  65  66  67  68  69  70  71\n",
      "  72  73  74  75  76  77  78  79  80  81  82  83  84  85  86  87  88  89\n",
      "  90  91  92  93  94  95  96  97  98  99 100 101 102 103 104 105 106 107\n",
      " 108]\n",
      " unit:  19 , matching unit:  94 94\n",
      "\n",
      " unit:  26 , matching unit:  48 48\n",
      "\n",
      " unit:  19 , matching unit:  59 59\n",
      "\n",
      " unit:  19 , matching unit:  20 20\n",
      " ground truth wfs:  (36250, 101, 384)\n",
      "len ptpssorted:  3\n",
      "rec len sec:  600\n",
      "\n",
      " unit:  26 , matching unit:  81 81\n",
      "\n",
      " loading injected unit:  22\n",
      " ground truth templates:  (50, 101, 384)\n"
     ]
    },
    {
     "name": "stderr",
     "output_type": "stream",
     "text": [
      "/home/cat/anaconda3/lib/python3.7/site-packages/parmap/parmap.py:131: UserWarning: daemonic processes are not allowed to have children\n",
      "  warnings.warn(str(exc))\n"
     ]
    },
    {
     "name": "stdout",
     "output_type": "stream",
     "text": [
      "matched_units:  [  0   1   2   3   4   5   6   7   8   9  10  11  12  13  14  15  16  17\n",
      "  18  19  20  21  22  23  24  25  26  27  28  29  30  31  32  33  34  35\n",
      "  36  37  38  39  40  41  42  43  44  45  46  47  48  49  50  51  52  53\n",
      "  54  55  56  57  58  59  60  61  62  63  64  65  66  67  68  69  70  71\n",
      "  72  73  74  75  76  77  78  79  80  81  82  83  84  85  86  87  88  89\n",
      "  90  91  92  93  94  95  96  97  98  99 100 101 102 103 104 105 106 107\n",
      " 108]\n",
      " unit:  30 , matching unit:  103 103\n",
      "\n",
      " loading injected unit:  19\n",
      " ground truth wfs:  (24868, 101, 384)\n",
      "len ptpssorted:  3\n",
      "rec len sec:  600\n",
      " ground truth templates:  (50, 101, 384)\n"
     ]
    },
    {
     "name": "stderr",
     "output_type": "stream",
     "text": [
      "/home/cat/anaconda3/lib/python3.7/site-packages/parmap/parmap.py:131: UserWarning: daemonic processes are not allowed to have children\n",
      "  warnings.warn(str(exc))\n"
     ]
    },
    {
     "name": "stdout",
     "output_type": "stream",
     "text": [
      "\n",
      " loading injected unit:  26\n",
      "matched_units:  [  0   1   2   3   4   5   6   7   8   9  10  11  12  13  14  15  16  17\n",
      "  18  19  20  21  22  23  24  25  26  27  28  29  30  31  32  33  34  35\n",
      "  36  37  38  39  40  41  42  43  44  45  46  47  48  49  50  51  52  53\n",
      "  54  55  56  57  58  59  60  61  62  63  64  65  66  67  68  69  70  71\n",
      "  72  73  74  75  76  77  78  79  80  81  82  83  84  85  86  87  88  89\n",
      "  90  91  92  93  94  95  96  97  98  99 100 101 102 103 104 105 106 107\n",
      " 108]\n",
      " unit:  23 , matching unit:  86 86\n",
      " ground truth wfs:  (21799, 101, 384)\n",
      "len ptpssorted:  3\n",
      " ground truth wfs:  (26112, 101, 384)\n",
      "rec len sec:  600\n",
      "len ptpssorted:  3\n",
      "rec len sec:  600\n",
      "\n",
      " unit:  30 , matching unit:  77 77\n",
      " ground truth templates:  (50, 101, 384)\n"
     ]
    },
    {
     "name": "stderr",
     "output_type": "stream",
     "text": [
      "/home/cat/anaconda3/lib/python3.7/site-packages/parmap/parmap.py:131: UserWarning: daemonic processes are not allowed to have children\n",
      "  warnings.warn(str(exc))\n"
     ]
    },
    {
     "name": "stdout",
     "output_type": "stream",
     "text": [
      " ground truth templates:  (50, 101, 384)\n"
     ]
    },
    {
     "name": "stderr",
     "output_type": "stream",
     "text": [
      "/home/cat/anaconda3/lib/python3.7/site-packages/parmap/parmap.py:131: UserWarning: daemonic processes are not allowed to have children\n",
      "  warnings.warn(str(exc))\n"
     ]
    },
    {
     "name": "stdout",
     "output_type": "stream",
     "text": [
      "matched_units:  [  0   1   2   3   4   5   6   7   8   9  10  11  12  13  14  15  16  17\n",
      "  18  19  20  21  22  23  24  25  26  27  28  29  30  31  32  33  34  35\n",
      "  36  37  38  39  40  41  42  43  44  45  46  47  48  49  50  51  52  53\n",
      "  54  55  56  57  58  59  60  61  62  63  64  65  66  67  68  69  70  71\n",
      "  72  73  74  75  76  77  78  79  80  81  82  83  84  85  86  87  88  89\n",
      "  90  91  92  93  94  95  96  97  98  99 100 101 102 103 104 105 106 107\n",
      " 108]\n",
      " unit:  27 , matching unit:  64 64\n",
      "matched_units:  [  0   1   2   3   4   5   6   7   8   9  10  11  12  13  14  15  16  17\n",
      "  18  19  20  21  22  23  24  25  26  27  28  29  30  31  32  33  34  35\n",
      "  36  37  38  39  40  41  42  43  44  45  46  47  48  49  50  51  52  53\n",
      "  54  55  56  57  58  59  60  61  62  63  64  65  66  67  68  69  70  71\n",
      "  72  73  74  75  76  77  78  79  80  81  82  83  84  85  86  87  88  89\n",
      "  90  91  92  93  94  95  96  97  98  99 100 101 102 103 104 105 106 107\n",
      " 108]\n",
      " unit:  32 , matching unit:  20 20\n",
      "\n",
      " unit:  23 , matching unit:  14 14\n",
      "\n",
      " unit:  30 , matching unit:  20 20\n",
      "\n",
      " unit:  27 , matching unit:  46 46\n",
      "\n",
      " unit:  32 , matching unit:  21 21\n",
      "\n",
      " loading injected unit:  30\n",
      "\n",
      " unit:  23 , matching unit:  20 20\n",
      "\n",
      " unit:  32 , matching unit:  86 86\n",
      "\n",
      " loading injected unit:  23\n",
      "\n",
      " unit:  27 , matching unit:  20 20\n",
      "\n",
      " loading injected unit:  27\n",
      " ground truth wfs:  (33947, 101, 384)\n",
      "len ptpssorted:  3\n",
      "\n",
      " loading injected unit:  32\n",
      "rec len sec:  600\n",
      " ground truth wfs:  (32404, 101, 384)\n",
      "len ptpssorted:  3\n",
      "rec len sec:  600\n",
      " ground truth wfs:  (25675, 101, 384)\n",
      " ground truth templates:  (50, 101, 384)\n"
     ]
    },
    {
     "name": "stderr",
     "output_type": "stream",
     "text": [
      "/home/cat/anaconda3/lib/python3.7/site-packages/parmap/parmap.py:131: UserWarning: daemonic processes are not allowed to have children\n",
      "  warnings.warn(str(exc))\n"
     ]
    },
    {
     "name": "stdout",
     "output_type": "stream",
     "text": [
      "len ptpssorted:  3\n",
      "rec len sec:  600\n",
      " ground truth templates:  (50, 101, 384)\n"
     ]
    },
    {
     "name": "stderr",
     "output_type": "stream",
     "text": [
      "/home/cat/anaconda3/lib/python3.7/site-packages/parmap/parmap.py:131: UserWarning: daemonic processes are not allowed to have children\n",
      "  warnings.warn(str(exc))\n"
     ]
    },
    {
     "name": "stdout",
     "output_type": "stream",
     "text": [
      "matched_units:  [  0   1   2   3   4   5   6   7   8   9  10  11  12  13  14  15  16  17\n",
      "  18  19  20  21  22  23  24  25  26  27  28  29  30  31  32  33  34  35\n",
      "  36  37  38  39  40  41  42  43  44  45  46  47  48  49  50  51  52  53\n",
      "  54  55  56  57  58  59  60  61  62  63  64  65  66  67  68  69  70  71\n",
      "  72  73  74  75  76  77  78  79  80  81  82  83  84  85  86  87  88  89\n",
      "  90  91  92  93  94  95  96  97  98  99 100 101 102 103 104 105 106 107\n",
      " 108]\n",
      " unit:  36 , matching unit:  3 3\n",
      " ground truth templates:  (50, 101, 384)\n",
      "matched_units:  [  0   1   2   3   4   5   6   7   8   9  10  11  12  13  14  15  16  17\n",
      "  18  19  20  21  22  23  24  25  26  27  28  29  30  31  32  33  34  35\n",
      "  36  37  38  39  40  41  42  43  44  45  46  47  48  49  50  51  52  53\n",
      "  54  55  56  57  58  59  60  61  62  63  64  65  66  67  68  69  70  71\n",
      "  72  73  74  75  76  77  78  79  80  81  82  83  84  85  86  87  88  89\n",
      "  90  91  92  93  94  95  96  97  98  99 100 101 102 103 104 105 106 107\n",
      " 108]\n",
      " unit:  31 , matching unit:  86 86\n"
     ]
    },
    {
     "name": "stderr",
     "output_type": "stream",
     "text": [
      "/home/cat/anaconda3/lib/python3.7/site-packages/parmap/parmap.py:131: UserWarning: daemonic processes are not allowed to have children\n",
      "  warnings.warn(str(exc))\n"
     ]
    },
    {
     "name": "stdout",
     "output_type": "stream",
     "text": [
      "matched_units:  [  0   1   2   3   4   5   6   7   8   9  10  11  12  13  14  15  16  17\n",
      "  18  19  20  21  22  23  24  25  26  27  28  29  30  31  32  33  34  35\n",
      "  36  37  38  39  40  41  42  43  44  45  46  47  48  49  50  51  52  53\n",
      "  54  55  56  57  58  59  60  61  62  63  64  65  66  67  68  69  70  71\n",
      "  72  73  74  75  76  77  78  79  80  81  82  83  84  85  86  87  88  89\n",
      "  90  91  92  93  94  95  96  97  98  99 100 101 102 103 104 105 106 107\n",
      " 108]\n",
      " unit:  33 , matching unit:  1 1\n",
      "\n",
      " unit:  31 , matching unit:  20 20\n",
      "\n",
      " unit:  31 , matching unit:  27 27\n",
      "\n",
      " unit:  36 , matching unit:  64 64\n",
      " ground truth wfs:  (35098, 101, 384)\n",
      "len ptpssorted:  3\n",
      "rec len sec:  600\n",
      " ground truth templates:  (50, 101, 384)\n"
     ]
    },
    {
     "name": "stderr",
     "output_type": "stream",
     "text": [
      "/home/cat/anaconda3/lib/python3.7/site-packages/parmap/parmap.py:131: UserWarning: daemonic processes are not allowed to have children\n",
      "  warnings.warn(str(exc))\n"
     ]
    },
    {
     "name": "stdout",
     "output_type": "stream",
     "text": [
      "matched_units:  [  0   1   2   3   4   5   6   7   8   9  10  11  12  13  14  15  16  17\n",
      "  18  19  20  21  22  23  24  25  26  27  28  29  30  31  32  33  34  35\n",
      "  36  37  38  39  40  41  42  43  44  45  46  47  48  49  50  51  52  53\n",
      "  54  55  56  57  58  59  60  61  62  63  64  65  66  67  68  69  70  71\n",
      "  72  73  74  75  76  77  78  79  80  81  82  83  84  85  86  87  88  89\n",
      "  90  91  92  93  94  95  96  97  98  99 100 101 102 103 104 105 106 107\n",
      " 108]\n",
      " unit:  40 , matching unit:  30 30\n",
      "\n",
      " unit:  36 , matching unit:  20 20\n",
      "\n",
      " unit:  33 , matching unit:  2 2\n",
      "\n",
      " loading injected unit:  31\n",
      "\n",
      " loading injected unit:  36\n",
      "\n",
      " unit:  40 , matching unit:  35 35\n",
      "\n",
      " unit:  33 , matching unit:  20 20\n",
      "\n",
      " loading injected unit:  33\n",
      " ground truth wfs:  (35283, 101, 384)\n",
      " ground truth wfs:  (31383, 101, 384)\n",
      "len ptpssorted:  3\n",
      "len ptpssorted:  3\n",
      "rec len sec:  600\n",
      "\n",
      " unit:  40 , matching unit:  20 20\n",
      "rec len sec:  600\n",
      " ground truth templates:  (50, 101, 384)\n"
     ]
    },
    {
     "name": "stderr",
     "output_type": "stream",
     "text": [
      "/home/cat/anaconda3/lib/python3.7/site-packages/parmap/parmap.py:131: UserWarning: daemonic processes are not allowed to have children\n",
      "  warnings.warn(str(exc))\n"
     ]
    },
    {
     "name": "stdout",
     "output_type": "stream",
     "text": [
      " ground truth templates:  (50, 101, 384)\n"
     ]
    },
    {
     "name": "stderr",
     "output_type": "stream",
     "text": [
      "/home/cat/anaconda3/lib/python3.7/site-packages/parmap/parmap.py:131: UserWarning: daemonic processes are not allowed to have children\n",
      "  warnings.warn(str(exc))\n"
     ]
    },
    {
     "name": "stdout",
     "output_type": "stream",
     "text": [
      "matched_units:  [  0   1   2   3   4   5   6   7   8   9  10  11  12  13  14  15  16  17\n",
      "  18  19  20  21  22  23  24  25  26  27  28  29  30  31  32  33  34  35\n",
      "  36  37  38  39  40  41  42  43  44  45  46  47  48  49  50  51  52  53\n",
      "  54  55  56  57  58  59  60  61  62  63  64  65  66  67  68  69  70  71\n",
      "  72  73  74  75  76  77  78  79  80  81  82  83  84  85  86  87  88  89\n",
      "  90  91  92  93  94  95  96  97  98  99 100 101 102 103 104 105 106 107\n",
      " 108]\n",
      " unit:  44 , matching unit:  102 102\n",
      "matched_units:  [  0   1   2   3   4   5   6   7   8   9  10  11  12  13  14  15  16  17\n",
      "  18  19  20  21  22  23  24  25  26  27  28  29  30  31  32  33  34  35\n",
      "  36  37  38  39  40  41  42  43  44  45  46  47  48  49  50  51  52  53\n",
      "  54  55  56  57  58  59  60  61  62  63  64  65  66  67  68  69  70  71\n",
      "  72  73  74  75  76  77  78  79  80  81  82  83  84  85  86  87  88  89\n",
      "  90  91  92  93  94  95  96  97  98  99 100 101 102 103 104 105 106 107\n",
      " 108]\n",
      " unit:  37 , matching unit:  12 12\n",
      "\n",
      " unit:  44 , matching unit:  20 20\n",
      " ground truth wfs:  (35341, 101, 384)\n",
      "len ptpssorted:  3\n",
      "\n",
      " loading injected unit:  40\n",
      "rec len sec:  600\n",
      "\n",
      " unit:  44 , matching unit:  83 83\n",
      " ground truth templates:  (50, 101, 384)\n"
     ]
    },
    {
     "name": "stderr",
     "output_type": "stream",
     "text": [
      "/home/cat/anaconda3/lib/python3.7/site-packages/parmap/parmap.py:131: UserWarning: daemonic processes are not allowed to have children\n",
      "  warnings.warn(str(exc))\n"
     ]
    },
    {
     "name": "stdout",
     "output_type": "stream",
     "text": [
      "matched_units:  [  0   1   2   3   4   5   6   7   8   9  10  11  12  13  14  15  16  17\n",
      "  18  19  20  21  22  23  24  25  26  27  28  29  30  31  32  33  34  35\n",
      "  36  37  38  39  40  41  42  43  44  45  46  47  48  49  50  51  52  53\n",
      "  54  55  56  57  58  59  60  61  62  63  64  65  66  67  68  69  70  71\n",
      "  72  73  74  75  76  77  78  79  80  81  82  83  84  85  86  87  88  89\n",
      "  90  91  92  93  94  95  96  97  98  99 100 101 102 103 104 105 106 107\n",
      " 108]\n",
      " unit:  34 , matching unit:  29 29\n",
      " ground truth wfs:  (26827, 101, 384)\n",
      "len ptpssorted:  3\n",
      "rec len sec:  600\n",
      "\n",
      " unit:  37 , matching unit:  20 20\n",
      " ground truth templates:  (50, 101, 384)\n"
     ]
    },
    {
     "name": "stderr",
     "output_type": "stream",
     "text": [
      "/home/cat/anaconda3/lib/python3.7/site-packages/parmap/parmap.py:131: UserWarning: daemonic processes are not allowed to have children\n",
      "  warnings.warn(str(exc))\n"
     ]
    },
    {
     "name": "stdout",
     "output_type": "stream",
     "text": [
      "matched_units:  [  0   1   2   3   4   5   6   7   8   9  10  11  12  13  14  15  16  17\n",
      "  18  19  20  21  22  23  24  25  26  27  28  29  30  31  32  33  34  35\n",
      "  36  37  38  39  40  41  42  43  44  45  46  47  48  49  50  51  52  53\n",
      "  54  55  56  57  58  59  60  61  62  63  64  65  66  67  68  69  70  71\n",
      "  72  73  74  75  76  77  78  79  80  81  82  83  84  85  86  87  88  89\n",
      "  90  91  92  93  94  95  96  97  98  99 100 101 102 103 104 105 106 107\n",
      " 108]\n",
      " unit:  41 , matching unit:  15 15\n",
      "\n",
      " unit:  37 , matching unit:  64 64\n",
      "\n",
      " loading injected unit:  44\n",
      "\n",
      " unit:  34 , matching unit:  24 24\n"
     ]
    },
    {
     "name": "stderr",
     "output_type": "stream",
     "text": [
      "Process ForkPoolWorker-8:\n",
      "Process ForkPoolWorker-9:\n",
      "Process ForkPoolWorker-7:\n",
      "Traceback (most recent call last):\n",
      "Traceback (most recent call last):\n",
      "  File \"/home/cat/anaconda3/lib/python3.7/multiprocessing/process.py\", line 297, in _bootstrap\n",
      "    self.run()\n",
      "  File \"/home/cat/anaconda3/lib/python3.7/multiprocessing/process.py\", line 297, in _bootstrap\n",
      "    self.run()\n",
      "  File \"/home/cat/anaconda3/lib/python3.7/multiprocessing/process.py\", line 99, in run\n",
      "    self._target(*self._args, **self._kwargs)\n",
      "  File \"/home/cat/anaconda3/lib/python3.7/multiprocessing/process.py\", line 99, in run\n",
      "    self._target(*self._args, **self._kwargs)\n",
      "  File \"/home/cat/anaconda3/lib/python3.7/multiprocessing/pool.py\", line 121, in worker\n",
      "    result = (True, func(*args, **kwds))\n",
      "Traceback (most recent call last):\n",
      "  File \"/home/cat/anaconda3/lib/python3.7/multiprocessing/process.py\", line 297, in _bootstrap\n",
      "    self.run()\n",
      "  File \"/home/cat/anaconda3/lib/python3.7/multiprocessing/process.py\", line 99, in run\n",
      "    self._target(*self._args, **self._kwargs)\n",
      "  File \"/home/cat/anaconda3/lib/python3.7/multiprocessing/pool.py\", line 121, in worker\n",
      "    result = (True, func(*args, **kwds))\n",
      "  File \"/home/cat/anaconda3/lib/python3.7/multiprocessing/pool.py\", line 44, in mapstar\n",
      "    return list(map(*args))\n",
      "  File \"/home/cat/anaconda3/lib/python3.7/site-packages/parmap/parmap.py\", line 105, in _func_star_single\n",
      "    **func_item_args[3])\n",
      "  File \"/home/cat/anaconda3/lib/python3.7/multiprocessing/pool.py\", line 121, in worker\n",
      "    result = (True, func(*args, **kwds))\n",
      "  File \"/home/cat/anaconda3/lib/python3.7/multiprocessing/pool.py\", line 44, in mapstar\n",
      "    return list(map(*args))\n",
      "  File \"/home/cat/anaconda3/lib/python3.7/site-packages/parmap/parmap.py\", line 105, in _func_star_single\n",
      "    **func_item_args[3])\n",
      "  File \"/home/cat/code/sorting_analysis/utility_match_units.py\", line 53, in binary_reader_waveforms\n",
      "    count=(n_times * n_channels))\n",
      "  File \"/home/cat/code/sorting_analysis/utility_match_units.py\", line 582, in plot_single_unit\n",
      "    wfs_gt = binary_reader_waveforms(fname_int16, matcher.n_channels, matcher.n_times, spk_gt, data_type)\n",
      "  File \"/home/cat/code/sorting_analysis/utility_match_units.py\", line 523, in plot_single_unit\n",
      "    temp2 = binary_reader_waveforms(fname_int16, matcher.n_channels, matcher.n_times, spk, data_type)\n",
      "KeyboardInterrupt\n",
      "  File \"/home/cat/code/sorting_analysis/utility_match_units.py\", line 53, in binary_reader_waveforms\n",
      "    count=(n_times * n_channels))\n",
      "KeyboardInterrupt\n",
      "  File \"/home/cat/anaconda3/lib/python3.7/multiprocessing/pool.py\", line 44, in mapstar\n",
      "    return list(map(*args))\n",
      "  File \"/home/cat/anaconda3/lib/python3.7/site-packages/parmap/parmap.py\", line 105, in _func_star_single\n",
      "    **func_item_args[3])\n",
      "  File \"/home/cat/code/sorting_analysis/utility_match_units.py\", line 523, in plot_single_unit\n",
      "    temp2 = binary_reader_waveforms(fname_int16, matcher.n_channels, matcher.n_times, spk, data_type)\n",
      "  File \"/home/cat/code/sorting_analysis/utility_match_units.py\", line 53, in binary_reader_waveforms\n",
      "    count=(n_times * n_channels))\n",
      "KeyboardInterrupt\n"
     ]
    },
    {
     "ename": "KeyboardInterrupt",
     "evalue": "",
     "output_type": "error",
     "traceback": [
      "\u001b[0;31m---------------------------------------------------------------------------\u001b[0m",
      "\u001b[0;31mKeyboardInterrupt\u001b[0m                         Traceback (most recent call last)",
      "\u001b[0;32m<ipython-input-5-f7ed094861a8>\u001b[0m in \u001b[0;36m<module>\u001b[0;34m\u001b[0m\n\u001b[1;32m     13\u001b[0m                                \u001b[0mn_matches\u001b[0m\u001b[0;34m,\u001b[0m \u001b[0mclrs\u001b[0m\u001b[0;34m,\u001b[0m \u001b[0mscale_amplitude\u001b[0m\u001b[0;34m,\u001b[0m\u001b[0;34m\u001b[0m\u001b[0;34m\u001b[0m\u001b[0m\n\u001b[1;32m     14\u001b[0m                                \u001b[0msave_fig\u001b[0m\u001b[0;34m,\u001b[0m\u001b[0;34m\u001b[0m\u001b[0;34m\u001b[0m\u001b[0m\n\u001b[0;32m---> 15\u001b[0;31m                                n_cores)\n\u001b[0m\u001b[1;32m     16\u001b[0m \u001b[0;32melse\u001b[0m\u001b[0;34m:\u001b[0m\u001b[0;34m\u001b[0m\u001b[0;34m\u001b[0m\u001b[0m\n\u001b[1;32m     17\u001b[0m     \u001b[0;32mfor\u001b[0m \u001b[0mselected_unit\u001b[0m \u001b[0;32min\u001b[0m \u001b[0munits\u001b[0m\u001b[0;34m:\u001b[0m\u001b[0;34m\u001b[0m\u001b[0;34m\u001b[0m\u001b[0m\n",
      "\u001b[0;32m~/code/sorting_analysis/utility_match_units.py\u001b[0m in \u001b[0;36mplot_single_unit_parallel\u001b[0;34m(units, root_dir, spike_train_sorted, n_matches2, clrs, scale_amplitude, save_fig, n_cores)\u001b[0m\n\u001b[1;32m    759\u001b[0m                  \u001b[0mroot_dir\u001b[0m\u001b[0;34m,\u001b[0m\u001b[0;34m\u001b[0m\u001b[0;34m\u001b[0m\u001b[0m\n\u001b[1;32m    760\u001b[0m                  \u001b[0mspike_train_sorted\u001b[0m\u001b[0;34m,\u001b[0m\u001b[0;34m\u001b[0m\u001b[0;34m\u001b[0m\u001b[0m\n\u001b[0;32m--> 761\u001b[0;31m                  \u001b[0mn_matches2\u001b[0m\u001b[0;34m,\u001b[0m\u001b[0;34m\u001b[0m\u001b[0;34m\u001b[0m\u001b[0m\n\u001b[0m\u001b[1;32m    762\u001b[0m                  \u001b[0mclrs\u001b[0m\u001b[0;34m,\u001b[0m\u001b[0;34m\u001b[0m\u001b[0;34m\u001b[0m\u001b[0m\n\u001b[1;32m    763\u001b[0m                  \u001b[0mscale_amplitude\u001b[0m\u001b[0;34m,\u001b[0m\u001b[0;34m\u001b[0m\u001b[0;34m\u001b[0m\u001b[0m\n",
      "\u001b[0;32m~/anaconda3/lib/python3.7/site-packages/parmap/parmap.py\u001b[0m in \u001b[0;36mmap\u001b[0;34m(function, iterable, *args, **kwargs)\u001b[0m\n\u001b[1;32m    302\u001b[0m        \u001b[0;34m:\u001b[0m\u001b[0mtype\u001b[0m \u001b[0mpm_pbar\u001b[0m\u001b[0;34m:\u001b[0m \u001b[0mbool\u001b[0m\u001b[0;34m\u001b[0m\u001b[0;34m\u001b[0m\u001b[0m\n\u001b[1;32m    303\u001b[0m     \"\"\"\n\u001b[0;32m--> 304\u001b[0;31m     \u001b[0;32mreturn\u001b[0m \u001b[0m_map_or_starmap\u001b[0m\u001b[0;34m(\u001b[0m\u001b[0mfunction\u001b[0m\u001b[0;34m,\u001b[0m \u001b[0miterable\u001b[0m\u001b[0;34m,\u001b[0m \u001b[0margs\u001b[0m\u001b[0;34m,\u001b[0m \u001b[0mkwargs\u001b[0m\u001b[0;34m,\u001b[0m \u001b[0;34m\"map\"\u001b[0m\u001b[0;34m)\u001b[0m\u001b[0;34m\u001b[0m\u001b[0;34m\u001b[0m\u001b[0m\n\u001b[0m\u001b[1;32m    305\u001b[0m \u001b[0;34m\u001b[0m\u001b[0m\n\u001b[1;32m    306\u001b[0m \u001b[0;34m\u001b[0m\u001b[0m\n",
      "\u001b[0;32m~/anaconda3/lib/python3.7/site-packages/parmap/parmap.py\u001b[0m in \u001b[0;36m_map_or_starmap\u001b[0;34m(function, iterable, args, kwargs, map_or_starmap)\u001b[0m\n\u001b[1;32m    246\u001b[0m                                          repeat(kwargs)),\n\u001b[1;32m    247\u001b[0m                                     chunksize)\n\u001b[0;32m--> 248\u001b[0;31m             \u001b[0moutput\u001b[0m \u001b[0;34m=\u001b[0m \u001b[0mresult\u001b[0m\u001b[0;34m.\u001b[0m\u001b[0mget\u001b[0m\u001b[0;34m(\u001b[0m\u001b[0;34m)\u001b[0m\u001b[0;34m\u001b[0m\u001b[0;34m\u001b[0m\u001b[0m\n\u001b[0m\u001b[1;32m    249\u001b[0m         \u001b[0;32mexcept\u001b[0m\u001b[0;34m:\u001b[0m\u001b[0;34m\u001b[0m\u001b[0;34m\u001b[0m\u001b[0m\n\u001b[1;32m    250\u001b[0m             \u001b[0;32mif\u001b[0m \u001b[0mclose_pool\u001b[0m\u001b[0;34m:\u001b[0m\u001b[0;34m\u001b[0m\u001b[0;34m\u001b[0m\u001b[0m\n",
      "\u001b[0;32m~/anaconda3/lib/python3.7/multiprocessing/pool.py\u001b[0m in \u001b[0;36mget\u001b[0;34m(self, timeout)\u001b[0m\n\u001b[1;32m    649\u001b[0m \u001b[0;34m\u001b[0m\u001b[0m\n\u001b[1;32m    650\u001b[0m     \u001b[0;32mdef\u001b[0m \u001b[0mget\u001b[0m\u001b[0;34m(\u001b[0m\u001b[0mself\u001b[0m\u001b[0;34m,\u001b[0m \u001b[0mtimeout\u001b[0m\u001b[0;34m=\u001b[0m\u001b[0;32mNone\u001b[0m\u001b[0;34m)\u001b[0m\u001b[0;34m:\u001b[0m\u001b[0;34m\u001b[0m\u001b[0;34m\u001b[0m\u001b[0m\n\u001b[0;32m--> 651\u001b[0;31m         \u001b[0mself\u001b[0m\u001b[0;34m.\u001b[0m\u001b[0mwait\u001b[0m\u001b[0;34m(\u001b[0m\u001b[0mtimeout\u001b[0m\u001b[0;34m)\u001b[0m\u001b[0;34m\u001b[0m\u001b[0;34m\u001b[0m\u001b[0m\n\u001b[0m\u001b[1;32m    652\u001b[0m         \u001b[0;32mif\u001b[0m \u001b[0;32mnot\u001b[0m \u001b[0mself\u001b[0m\u001b[0;34m.\u001b[0m\u001b[0mready\u001b[0m\u001b[0;34m(\u001b[0m\u001b[0;34m)\u001b[0m\u001b[0;34m:\u001b[0m\u001b[0;34m\u001b[0m\u001b[0;34m\u001b[0m\u001b[0m\n\u001b[1;32m    653\u001b[0m             \u001b[0;32mraise\u001b[0m \u001b[0mTimeoutError\u001b[0m\u001b[0;34m\u001b[0m\u001b[0;34m\u001b[0m\u001b[0m\n",
      "\u001b[0;32m~/anaconda3/lib/python3.7/multiprocessing/pool.py\u001b[0m in \u001b[0;36mwait\u001b[0;34m(self, timeout)\u001b[0m\n\u001b[1;32m    646\u001b[0m \u001b[0;34m\u001b[0m\u001b[0m\n\u001b[1;32m    647\u001b[0m     \u001b[0;32mdef\u001b[0m \u001b[0mwait\u001b[0m\u001b[0;34m(\u001b[0m\u001b[0mself\u001b[0m\u001b[0;34m,\u001b[0m \u001b[0mtimeout\u001b[0m\u001b[0;34m=\u001b[0m\u001b[0;32mNone\u001b[0m\u001b[0;34m)\u001b[0m\u001b[0;34m:\u001b[0m\u001b[0;34m\u001b[0m\u001b[0;34m\u001b[0m\u001b[0m\n\u001b[0;32m--> 648\u001b[0;31m         \u001b[0mself\u001b[0m\u001b[0;34m.\u001b[0m\u001b[0m_event\u001b[0m\u001b[0;34m.\u001b[0m\u001b[0mwait\u001b[0m\u001b[0;34m(\u001b[0m\u001b[0mtimeout\u001b[0m\u001b[0;34m)\u001b[0m\u001b[0;34m\u001b[0m\u001b[0;34m\u001b[0m\u001b[0m\n\u001b[0m\u001b[1;32m    649\u001b[0m \u001b[0;34m\u001b[0m\u001b[0m\n\u001b[1;32m    650\u001b[0m     \u001b[0;32mdef\u001b[0m \u001b[0mget\u001b[0m\u001b[0;34m(\u001b[0m\u001b[0mself\u001b[0m\u001b[0;34m,\u001b[0m \u001b[0mtimeout\u001b[0m\u001b[0;34m=\u001b[0m\u001b[0;32mNone\u001b[0m\u001b[0;34m)\u001b[0m\u001b[0;34m:\u001b[0m\u001b[0;34m\u001b[0m\u001b[0;34m\u001b[0m\u001b[0m\n",
      "\u001b[0;32m~/anaconda3/lib/python3.7/threading.py\u001b[0m in \u001b[0;36mwait\u001b[0;34m(self, timeout)\u001b[0m\n\u001b[1;32m    550\u001b[0m             \u001b[0msignaled\u001b[0m \u001b[0;34m=\u001b[0m \u001b[0mself\u001b[0m\u001b[0;34m.\u001b[0m\u001b[0m_flag\u001b[0m\u001b[0;34m\u001b[0m\u001b[0;34m\u001b[0m\u001b[0m\n\u001b[1;32m    551\u001b[0m             \u001b[0;32mif\u001b[0m \u001b[0;32mnot\u001b[0m \u001b[0msignaled\u001b[0m\u001b[0;34m:\u001b[0m\u001b[0;34m\u001b[0m\u001b[0;34m\u001b[0m\u001b[0m\n\u001b[0;32m--> 552\u001b[0;31m                 \u001b[0msignaled\u001b[0m \u001b[0;34m=\u001b[0m \u001b[0mself\u001b[0m\u001b[0;34m.\u001b[0m\u001b[0m_cond\u001b[0m\u001b[0;34m.\u001b[0m\u001b[0mwait\u001b[0m\u001b[0;34m(\u001b[0m\u001b[0mtimeout\u001b[0m\u001b[0;34m)\u001b[0m\u001b[0;34m\u001b[0m\u001b[0;34m\u001b[0m\u001b[0m\n\u001b[0m\u001b[1;32m    553\u001b[0m             \u001b[0;32mreturn\u001b[0m \u001b[0msignaled\u001b[0m\u001b[0;34m\u001b[0m\u001b[0;34m\u001b[0m\u001b[0m\n\u001b[1;32m    554\u001b[0m \u001b[0;34m\u001b[0m\u001b[0m\n",
      "\u001b[0;32m~/anaconda3/lib/python3.7/threading.py\u001b[0m in \u001b[0;36mwait\u001b[0;34m(self, timeout)\u001b[0m\n\u001b[1;32m    294\u001b[0m         \u001b[0;32mtry\u001b[0m\u001b[0;34m:\u001b[0m    \u001b[0;31m# restore state no matter what (e.g., KeyboardInterrupt)\u001b[0m\u001b[0;34m\u001b[0m\u001b[0;34m\u001b[0m\u001b[0m\n\u001b[1;32m    295\u001b[0m             \u001b[0;32mif\u001b[0m \u001b[0mtimeout\u001b[0m \u001b[0;32mis\u001b[0m \u001b[0;32mNone\u001b[0m\u001b[0;34m:\u001b[0m\u001b[0;34m\u001b[0m\u001b[0;34m\u001b[0m\u001b[0m\n\u001b[0;32m--> 296\u001b[0;31m                 \u001b[0mwaiter\u001b[0m\u001b[0;34m.\u001b[0m\u001b[0macquire\u001b[0m\u001b[0;34m(\u001b[0m\u001b[0;34m)\u001b[0m\u001b[0;34m\u001b[0m\u001b[0;34m\u001b[0m\u001b[0m\n\u001b[0m\u001b[1;32m    297\u001b[0m                 \u001b[0mgotit\u001b[0m \u001b[0;34m=\u001b[0m \u001b[0;32mTrue\u001b[0m\u001b[0;34m\u001b[0m\u001b[0;34m\u001b[0m\u001b[0m\n\u001b[1;32m    298\u001b[0m             \u001b[0;32melse\u001b[0m\u001b[0;34m:\u001b[0m\u001b[0;34m\u001b[0m\u001b[0;34m\u001b[0m\u001b[0m\n",
      "\u001b[0;31mKeyboardInterrupt\u001b[0m: "
     ]
    }
   ],
   "source": [
    "scale_amplitude = 10.\n",
    "n_matches = 3\n",
    "save_fig = True\n",
    "# plot ptp of spikes from different units:\n",
    "# selected_unit = 15 #15 #47 #39 #21\n",
    "\n",
    "units = np.unique(matcher.spike_train_gt[:,1])\n",
    "n_cores = 4\n",
    "if True:\n",
    "     plot_single_unit_parallel(units, \n",
    "                               root_dir,\n",
    "                               spike_train_sorted, \n",
    "                               n_matches, clrs, scale_amplitude,\n",
    "                               save_fig,\n",
    "                               n_cores)\n",
    "else:\n",
    "    for selected_unit in units: \n",
    "        plot_single_unit(root_dir, selected_unit, matcher, \n",
    "                  n_matches, clrs, scale_amplitude,\n",
    "                  save_fig)"
   ]
  },
  {
   "cell_type": "code",
   "execution_count": null,
   "metadata": {},
   "outputs": [],
   "source": []
  },
  {
   "cell_type": "code",
   "execution_count": null,
   "metadata": {},
   "outputs": [],
   "source": []
  },
  {
   "cell_type": "code",
   "execution_count": null,
   "metadata": {},
   "outputs": [],
   "source": []
  },
  {
   "cell_type": "code",
   "execution_count": null,
   "metadata": {},
   "outputs": [],
   "source": []
  },
  {
   "cell_type": "code",
   "execution_count": null,
   "metadata": {},
   "outputs": [],
   "source": [
    "print (len(ptp_gt_unit), len(purity),len(completeness))\n",
    "print (ptp_gt_unit)\n",
    "print (purity)\n",
    "ax=plt.subplot(121)\n",
    "plt.scatter(ptp_gt_unit, purity, c='blue')\n",
    "plt.title(\"True Positive Rate \\n(# spikes found / # spikes injected)\", fontsize=15)\n",
    "plt.xlabel(\"PTP of unit\", fontsize=20)\n",
    "plt.xlim(left=0)\n",
    "plt.ylim(0,1.05)\n",
    "ax.tick_params(axis='both', which='major', labelsize=20)\n",
    "\n",
    "# plot purity\n",
    "ax=plt.subplot(122)\n",
    "ax.tick_params(axis='both', which='major', labelsize=20)\n",
    "plt.scatter(ptp_gt_unit,completeness, c='red')\n",
    "plt.title(\"Purity \\n(# spikes found / # spikes in unit)\", fontsize=15)\n",
    "plt.xlabel(\"PTP of injected unit\", fontsize=20)\n",
    "plt.xlim(left=0)\n",
    "plt.ylim(0,1.05)\n",
    "plt.suptitle(\"Neuropixels Drift Simulation run3\\n shifts: \"+\n",
    "             str(np.array([-0.1,  -0.05,  0.,    0.05])*40)+\" um\"+ \" @ \"+\n",
    "             str(np.array([0.,  6000000., 12000000., 18000000.])/30000)+ \" sec\"+\n",
    "            \"\\n10mins recording, 384 channels\"+\n",
    "            \"\\n Sorted using KS2\")\n",
    "plt.show()"
   ]
  },
  {
   "cell_type": "code",
   "execution_count": null,
   "metadata": {},
   "outputs": [],
   "source": [
    "t1 = np.load('/media/cat/1TB/data/synthetic/run3/ground_truth/templates_ground_truth.npy')\n",
    "print (t1.shape)\n",
    "t2 = np.load('/media/cat/1TB/data/synthetic/run3/templates_reloaded_good.npy')\n",
    "print (t2.shape)\n",
    "\n",
    "max1 = t1[2].ptp(0).argmax(0)\n",
    "max2 = t2[50].ptp(0).argmax(0)\n",
    "print (max1, max2)\n",
    "\n",
    "ax=plt.subplot(121)\n",
    "plt.plot(t1[2],c='black')\n",
    "ax=plt.subplot(122)\n",
    "plt.plot(t2[50]/10.,c='blue')\n",
    "plt.show()\n"
   ]
  },
  {
   "cell_type": "code",
   "execution_count": null,
   "metadata": {},
   "outputs": [],
   "source": [
    "d1 = max_chans_sorted\n",
    "d2 = max_chans_unit\n",
    "t1, t2, t3 = np.intersect1d(d1,d2,return_indices=True)\n",
    "print (t1,t2,t3)\n",
    "\n",
    "t1 = np.where(np.in1d(d1, d2))[0]\n",
    "print (t1)\n",
    "\n"
   ]
  },
  {
   "cell_type": "code",
   "execution_count": 67,
   "metadata": {},
   "outputs": [
    {
     "name": "stdout",
     "output_type": "stream",
     "text": [
      "[[      35      420]\n",
      " [    6119      420]\n",
      " [   12204      420]\n",
      " ...\n",
      " [17983395      247]\n",
      " [17990820      247]\n",
      " [17998245      247]]\n",
      "(49, 101, 384)\n",
      "[420 339 421 348 473 418  62 362 565 239 498 474 324 298 471 441 417 443\n",
      " 356 424  63 437 485 160 156 302 346 334 431 486  66 204  14 258 300  16\n",
      " 150  52 317 277 184 456  65 481  38 436 558 194 247]\n",
      "[[      35        0]\n",
      " [    6119        0]\n",
      " [   12204        0]\n",
      " ...\n",
      " [17983395       48]\n",
      " [17990820       48]\n",
      " [17998245       48]]\n"
     ]
    }
   ],
   "source": [
    "spike_train = np.load('/media/cat/1TB/data/synthetic/run3/ground_truth/spike_train_ground_truth.npy')\n",
    "print (spike_train)\n",
    "templates = np.load('/media/cat/1TB/data/synthetic/run3/ground_truth/templates_ground_truth.npy')\n",
    "print (templates.shape)\n",
    "\n",
    "units = np.load('/media/cat/1TB/data/synthetic/run3/ground_truth/units.npy')\n",
    "print (units)\n",
    "\n",
    "ctr=0\n",
    "spike_train_corrected = spike_train.copy()\n",
    "for unit in units:\n",
    "    idx = np.where(spike_train[:,1]==unit)[0]\n",
    "    spike_train_corrected[idx,1]=ctr\n",
    "    ctr+=1\n",
    "    \n",
    "print (spike_train_corrected)\n",
    "np.save('/media/cat/1TB/data/synthetic/run3/ground_truth/spike_train_ground_truth_corrected.npy',spike_train_corrected)"
   ]
  },
  {
   "cell_type": "code",
   "execution_count": 21,
   "metadata": {},
   "outputs": [
    {
     "name": "stdout",
     "output_type": "stream",
     "text": [
      "spikes: (8210,) ptps:  (8210,)\n",
      "(8210, 101)\n",
      "[[0.267004 0.004874 0.329415 1.      ]\n",
      " [0.267004 0.004874 0.329415 1.      ]\n",
      " [0.267004 0.004874 0.329415 1.      ]\n",
      " ...\n",
      " [0.993248 0.906157 0.143936 1.      ]\n",
      " [0.993248 0.906157 0.143936 1.      ]\n",
      " [0.993248 0.906157 0.143936 1.      ]]\n"
     ]
    }
   ],
   "source": [
    "units=np.arange(5)\n",
    "units = [good_units[3]]\n",
    "\n",
    "for unit in units:\n",
    "    fig = plt.figure()\n",
    "    ax = plt.subplot(131)\n",
    "    #plt.plot(templates[unit].T)\n",
    "    plt.plot(wfs_array[unit].mean(0))\n",
    "\n",
    "    ax = plt.subplot(132)\n",
    "    #spikes = spikes[idx]\n",
    "    spikes = times[unit]\n",
    "    print (\"spikes:\", spikes.shape, \"ptps: \", ptps[unit].shape)\n",
    "    plt.scatter(spikes/30000., ptps[unit])\n",
    "\n",
    "    ax=plt.subplot(133)\n",
    "    max_chan = wfs_array[unit].mean(0).ptp(0).argmax(0)#templates[unit].ptp(0).argmax(0)\n",
    "    print (wfs_array[unit].shape)\n",
    "\n",
    "    cmap = cm.get_cmap('viridis',wfs_array[unit].shape[0])\n",
    "    clrs = cmap(np.arange(wfs_array[unit].shape[0]))\n",
    "    print (clrs)\n",
    "    for k in range(0,wfs_array[unit].shape[0],10):\n",
    "        plt.plot(wfs_array[unit][k].T,c=cmap(k))\n",
    "\n",
    "\n",
    "plt.show()\n",
    "\n"
   ]
  },
  {
   "cell_type": "code",
   "execution_count": 9,
   "metadata": {},
   "outputs": [
    {
     "name": "stdout",
     "output_type": "stream",
     "text": [
      "(10, 10)\n",
      "[[0.61659694 0.20125714 0.48515898 0.45059603 0.89409843 0.8158124\n",
      "  0.30200264 0.06808628 0.60955651 0.7760584 ]\n",
      " [0.19814057 0.21134196 0.27791917 0.52312241 0.20263871 0.21097603\n",
      "  0.34816364 0.1852993  0.90506002 0.80562087]\n",
      " [0.970196   0.70466193 0.08746122 0.33371635 0.44791585 0.00678562\n",
      "  0.41421277 0.65443008 0.8541354  0.41522301]\n",
      " [0.88052786 0.34072116 0.12298287 0.23288985 0.98943396 0.56546028\n",
      "  0.38736253 0.87851743 0.83882004 0.96018176]\n",
      " [0.5622632  0.19456103 0.89831444 0.56587043 0.12599613 0.24817026\n",
      "  0.47188959 0.55809954 0.72628178 0.72821972]\n",
      " [0.59236306 0.06332327 0.35662913 0.93425548 0.15622572 0.77164442\n",
      "  0.62013196 0.67339586 0.97380542 0.9211003 ]\n",
      " [0.55011567 0.22242238 0.41892959 0.23396425 0.80036351 0.00612786\n",
      "  0.72244072 0.1119026  0.84247935 0.13666388]\n",
      " [0.1674969  0.17014984 0.70297569 0.28534628 0.87704159 0.62894665\n",
      "  0.38268201 0.47207143 0.53495952 0.46683818]\n",
      " [0.58624526 0.67612232 0.60880662 0.66169478 0.10866143 0.88197916\n",
      "  0.502424   0.9758637  0.08627364 0.66324858]\n",
      " [0.91632339 0.20910792 0.23389255 0.65050926 0.62595579 0.55542687\n",
      "  0.3146103  0.78749732 0.53689266 0.18682129]]\n"
     ]
    }
   ],
   "source": [
    "fname = '/home/cat/Downloads/yass/samples/10chan/phy/whitening_mat.npy'\n",
    "\n",
    "n_channels = 10\n",
    "\n",
    "whitening_mat = np.random.rand(n_channels,n_channels)\n",
    "\n",
    "np.save(fname, whitening_mat)\n",
    "print (whitening_mat.shape)\n",
    "print (whitening_mat)"
   ]
  },
  {
   "cell_type": "code",
   "execution_count": 24,
   "metadata": {
    "collapsed": true,
    "jupyter": {
     "outputs_hidden": true
    }
   },
   "outputs": [
    {
     "name": "stdout",
     "output_type": "stream",
     "text": [
      "(426, 364)\n",
      "[  0   1   1   1   2   3   4   6   7   5  10  13  14  14  15  16  17  18\n",
      "  20  21  30  26  29  29  30  31  32  35  37  41  42  43  45  46  49  50\n",
      "  38  56  58  60  69  68  68  68  72  70  71  74  75  76 342  80  79  80\n",
      "  80  83  82  84 333  85  86  87  88  88  88  88  89  89  90  88  87  92\n",
      " 336  94  95  98  99  84 101 103 104 108 109 109 111 111 111 112 114 115\n",
      " 119 119 120 121 125 127 127 124 131 133 134 134 132 140 137 138 140 332\n",
      " 140 140 141 142 142 140 143 145 146 147 147 149 149 149 149 150 284 149\n",
      " 154 154 154 162 164 165 166 164 169 170 173 173 174 177 178 173 180 181\n",
      " 182 186 182 185 185 186 186 189 190 192 194 197 198 199 201 204 204 206\n",
      " 208 208 209 209 213 209 210 212 205 209 213 213 213 213 216 216 216 217\n",
      " 219 220 226 228 229 229 229 230 230 233 235 215 236 236 238 239 239 242\n",
      " 245 245 248 248 248 248 249 249 252 252 253 253 262 262 262 262 262 262\n",
      " 262 262 262 262 262 262 252 265 265 265 266 266 257 268 268 253 273 273\n",
      " 274 277 277 277 280 262 280 282 280 284 284 288 288 288 243 289 284 295\n",
      " 358 297 191 298 298 311 313 313 315 306 314 331 321 322 322 327 328 330\n",
      " 332 335 335 338 338 342 344 354 348 356 358 358 361 361 362 362 362 362\n",
      " 362 362 349   3   3   6  17  29  41  41  50  54  54  54  70  71  76  83\n",
      "  82  84  84  70  92  98 107 132 136 136 146 142 142 146 144 149 154 149\n",
      " 145 153 165 166 193 209 213 213 216 228 225 226 225 229 229 229 233 228\n",
      " 234 238 239 239 242 244 262 277 266 253 262 286 280 288 301 314 298 313\n",
      " 313 315 357 361 362 362 362  23  71  70 132 136 149 213 213 230 226 244\n",
      " 245 252 252 252 253 262 280 277 315 313 362  99 277 252 262 280 362 362\n",
      " 262  30  71 331 338  84 104 124 134 142 149 149 149 176 219 220 245 245\n",
      " 332  98 107 144 225 229 286 145 315 252 333 129]\n",
      "[0.3071947  0.22279035 0.38501927 0.23827517 0.3761837  0.14988117\n",
      " 0.39431098 0.40196902 0.2820593  0.15487008 0.26235378 0.32991886\n",
      " 0.3916762  0.301515   0.2630393  0.37317675 0.36949039 0.34565723\n",
      " 0.25799406 0.4041227  0.10588139 0.3562705  0.29749537 0.2898751\n",
      " 0.36430323 0.20704332 0.20556483 0.22514585 0.23864152 0.16167055\n",
      " 0.46503672 0.24219625 0.12357952 0.28837848 0.2964269  0.2790134\n",
      " 0.30903643 0.44515288 0.26092723 0.41021067 0.38871935 0.20724842\n",
      " 0.3497695  0.28905895 0.21832128 0.29497725 0.25289202 0.24938612\n",
      " 0.23477316 0.29706857 0.19985905 0.21054955 0.2983362  0.3408925\n",
      " 0.4374389  0.3167991  0.25199023 0.21564199 0.21477357 0.31563887\n",
      " 0.23133096 0.3031941  0.23335043 0.29236493 0.10907032 0.38484317\n",
      " 0.29085222 0.32503593 0.17601323 0.25921962 0.25102013 0.45855027\n",
      " 0.22076035 0.3196281  0.20719005 0.22016415 0.17795137 0.3257652\n",
      " 0.1916078  0.31863308 0.23113748 0.25070184 0.23824948 0.3943873\n",
      " 0.2334744  0.22139585 0.3492842  0.12120353 0.20610464 0.32202083\n",
      " 0.22186933 0.24482816 0.1778051  0.6347115  0.3036868  0.2614696\n",
      " 0.27872208 0.22158647 0.5426906  0.37817216 0.3240698  0.2932194\n",
      " 0.21438059 0.1973953  0.3224595  0.28098854 0.2898653  0.245836\n",
      " 0.20627743 0.1107849  0.26067838 0.30922735 0.27840823 0.21295244\n",
      " 0.37465668 0.19791886 0.24881311 0.27753177 0.2505112  0.3162164\n",
      " 0.34499347 0.4072507  0.2385338  0.29734406 0.29383045 0.26052293\n",
      " 0.41529363 0.15700236 0.2654475  0.15821663 0.21243656 0.29525518\n",
      " 0.2524705  0.3815822  0.35978588 0.3023609  0.17776214 0.35457945\n",
      " 0.32018393 0.26344368 0.30571726 0.2947163  0.23121181 0.24065468\n",
      " 0.23776093 0.15043442 0.41220397 0.23773618 0.25146067 0.4300246\n",
      " 0.30401987 0.34794495 0.25741124 0.28933012 0.18406215 0.251129\n",
      " 0.32729957 0.18310311 0.21997209 0.27227068 0.28800786 0.13021694\n",
      " 0.15668802 0.23893738 0.34549952 0.53957665 0.20419112 0.28373647\n",
      " 0.1988016  0.24114212 0.3269135  0.23786512 0.25368026 0.41632396\n",
      " 0.46337077 0.23467414 0.60094804 0.2027349  0.18129323 0.22538722\n",
      " 0.18069102 0.37975606 0.23003136 0.27250865 0.30648714 0.37558538\n",
      " 0.45940986 0.3010016  0.32685512 0.35189486 0.2185017  0.32465634\n",
      " 0.25701424 0.19323018 0.36968118 0.58405477 0.2556966  0.6769438\n",
      " 0.75837207 0.5574806  0.53208935 0.40706897 0.43327877 0.4941343\n",
      " 0.3867164  0.2659612  0.32622105 0.34940496 0.4032092  0.24119663\n",
      " 0.30089113 0.2481088  0.22958463 0.42266083 0.4512237  0.40264532\n",
      " 0.3469537  0.3687644  0.32321122 0.25028017 0.38093913 0.34168124\n",
      " 0.24637789 0.26957893 0.21239422 0.22078934 0.4702465  0.3794719\n",
      " 0.28819    0.24890898 0.22448237 0.40701115 0.3000832  0.27110147\n",
      " 0.30309236 0.32820013 0.28933346 0.24582382 0.27284145 0.28887782\n",
      " 0.3526117  0.2020354  0.24320245 0.26076427 0.24214835 0.23496038\n",
      " 0.29308105 0.31989098 0.27233246 0.20929499 0.26060244 0.38580608\n",
      " 0.21634984 0.31077585 0.23147434 0.31191936 0.45032355 0.31167826\n",
      " 0.24398245 0.2948694  0.09857035 0.17699637 0.2512428  0.12319763\n",
      " 0.424366   0.4737118  0.21667686 0.34120905 0.22340758 0.2176765\n",
      " 0.14409545 0.26078    0.22696856 0.09456612 0.37367147 0.55080116\n",
      " 0.2882231  0.1571098  0.26321056 0.57990897 0.28237832 0.23130065\n",
      " 0.18480834 0.51559526 0.35584086 0.35629314 0.64785135 0.70071554\n",
      " 0.35472244 0.41317263 0.22575219 0.15947881 0.17015605 0.29848626\n",
      " 0.34584278 0.34048733 0.2704274  0.30154413 0.27038732 0.24343309\n",
      " 0.2632952  0.24474315 0.2944954  0.2733838  0.18072698 0.24854368\n",
      " 0.2551049  0.23619893 0.24996042 0.2965153  0.28033382 0.25556594\n",
      " 0.23441666 0.2329042  0.21030727 0.21999912 0.26356527 0.28440055\n",
      " 0.20440333 0.22608763 0.24879855 0.33316523 0.21479076 0.27350596\n",
      " 0.30206126 0.2563783  0.29422802 0.20300089 0.1683471  0.2896214\n",
      " 0.29069662 0.28451738 0.4371196  0.20220351 0.39246923 0.2183029\n",
      " 0.29814878 0.36279288 0.44917038 0.39830998 0.34564853 0.4019392\n",
      " 0.22734056 0.34636098 0.278328   0.33986872 0.5674873  0.4801813\n",
      " 0.3882615  0.23732373 0.4573356  0.4209026  0.3476851  0.3005462\n",
      " 0.313719   0.25064632 0.27050373 0.25266755 0.20357536 0.3186242\n",
      " 0.29021522 0.12086127 0.11658259 0.4495887  0.3303988  0.3704247\n",
      " 0.36727032 0.28331715 0.23275584 0.31581476 0.18518482 0.21633027\n",
      " 0.29634118 0.2960668  0.2970627  0.39003617 0.23269902 0.4554643\n",
      " 0.5017494  0.2776566  0.27494785 0.2583506  0.4338882  0.340944\n",
      " 0.30279386 0.33863893 0.31856814 0.29940578 0.3160654  0.28263414\n",
      " 0.2673014  0.22415958 0.3331899  0.38328063 0.3237116  0.32649252\n",
      " 0.34186733 0.31299892 0.2592116  0.22832042 0.21704216 0.30140093\n",
      " 0.20223466 0.31054166 0.30284327 0.29097798 0.4103209  0.4111058\n",
      " 0.24603501 0.19316944 0.16516377 0.35064292 0.71065766 0.5967746\n",
      " 0.16827787 0.19342189 0.24939626 0.24573657 0.38418922 0.40092558\n",
      " 0.28917855 0.36195147 0.31711185 0.20401347 0.21712506 0.19283321]\n"
     ]
    }
   ],
   "source": [
    "max_chans = templates.ptp(1).argmax(1)\n",
    "ptps = templates.ptp(1).max(1)\n",
    "ptps_all = templates.ptp(1)\n",
    "print (ptps_all.shape)\n",
    "\n",
    "print (max_chans)\n",
    "print (ptps)\n"
   ]
  },
  {
   "cell_type": "code",
   "execution_count": 33,
   "metadata": {},
   "outputs": [],
   "source": [
    "# plot scatter vs. depth\n",
    "fig=plt.figure()\n",
    "ax=plt.subplot(111)\n",
    "for k in range(426):\n",
    "    idx = np.where(spike_clusters==k)[0]\n",
    "    times = spike_times[idx]/30000.\n",
    "    plt.scatter(times, times*0+geom[max_chans[k],1]+(np.random.rand()*80-40),s=1, alpha=.9)\n",
    "    \n",
    "ax.tick_params(axis = 'both', which = 'major', labelsize = 20)\n",
    "plt.ylim(3800,-100)\n",
    "plt.xlim(-10,times[-1]+10)\n",
    "plt.ylabel(\"Depth (um)\",fontsize=20)\n",
    "plt.xlabel(\"Time (sec)\",fontsize=20)\n",
    "\n",
    "plt.show()\n",
    "\n"
   ]
  },
  {
   "cell_type": "code",
   "execution_count": 59,
   "metadata": {},
   "outputs": [
    {
     "name": "stdout",
     "output_type": "stream",
     "text": [
      "(1, 200000)\n"
     ]
    }
   ],
   "source": [
    "import wavefile\n",
    "\n",
    "data = wavefile.loadWave('/home/cat/Downloads/time code signal.wav')\n",
    "\n",
    "print (data[1].shape)\n",
    "\n",
    "plt.plot(data[1].squeeze()[:1000])\n",
    "plt.show()"
   ]
  },
  {
   "cell_type": "code",
   "execution_count": 70,
   "metadata": {},
   "outputs": [
    {
     "name": "stdout",
     "output_type": "stream",
     "text": [
      "(200000,)\n",
      "[ 0.5  0.5  0.5 ... -0.5 -0.5 -0.5]\n"
     ]
    }
   ],
   "source": [
    "datas = data[1].squeeze()\n",
    "print (datas.shape)\n",
    "print (datas)"
   ]
  },
  {
   "cell_type": "code",
   "execution_count": 74,
   "metadata": {},
   "outputs": [
    {
     "name": "stdout",
     "output_type": "stream",
     "text": [
      "[     0      1      2 ... 199992 199993 199994]\n",
      "[1 1 1 ... 1 1 1]\n"
     ]
    }
   ],
   "source": [
    "idx = np.where(datas>0)[0]\n",
    "print (idx)\n",
    "diffs = idx[1:]-idx[:-1]\n",
    "print (diffs)"
   ]
  },
  {
   "cell_type": "code",
   "execution_count": 75,
   "metadata": {},
   "outputs": [
    {
     "name": "stdout",
     "output_type": "stream",
     "text": [
      "[ 7 10  8  9  9  9  9  9  9  9  9  9  9  9  4  9  9  9  9  9  9  9  9  9\n",
      "  9  9  9  9  9  9  9  9  9  9  4  4  4  4  4  4  4  4  4  4  4  4  4  4\n",
      "  9  9  9  9  9  9  9  9  9  9  9  9  9  9  9  9  9  9  9  9  9  9  9  9\n",
      "  9  9  9  9  9  9  9  9  9  4  4  4  4  4  4  4  4  4  4  4  4  4  9  4\n",
      "  9  9  9  9]\n",
      "[ 8 11  9 ...  5  5  4]\n"
     ]
    }
   ],
   "source": [
    "start = []\n",
    "end = []\n",
    "start.append(0)\n",
    "for k in range(1, diffs.shape[0]-1, 1):\n",
    "    if (diffs[k]-diffs[k-1])>1:\n",
    "        end.append(k-1)\n",
    "        start.append(k)\n",
    "end.append(k)\n",
    "end = np.array(end)\n",
    "start = np.array(start)\n",
    "print ((end-start)[:100])\n",
    "diffs_redone = end-start+1\n",
    "print (diffs_redone)"
   ]
  },
  {
   "cell_type": "code",
   "execution_count": 79,
   "metadata": {},
   "outputs": [],
   "source": [
    "ax=plt.subplot(111)\n",
    "sample_rate = 20000.\n",
    "hist = np.histogram(diffs_redone, np.arange(-20,50,1))\n",
    "plt.bar(hist[1][:-1]/sample_rate,hist[0],0.9/sample_rate)\n",
    "plt.xlabel(\"Inter pulse interval (seconds)\")\n",
    "plt.title(\"Distribution of inter-spike-interval (20 sec wav file provided by Avisoft)\")\n",
    "#ax.set_yscale('log')\n",
    "plt.show()"
   ]
  },
  {
   "cell_type": "code",
   "execution_count": null,
   "metadata": {},
   "outputs": [],
   "source": []
  }
 ],
 "metadata": {
  "kernelspec": {
   "display_name": "Python 3",
   "language": "python",
   "name": "python3"
  },
  "language_info": {
   "codemirror_mode": {
    "name": "ipython",
    "version": 3
   },
   "file_extension": ".py",
   "mimetype": "text/x-python",
   "name": "python",
   "nbconvert_exporter": "python",
   "pygments_lexer": "ipython3",
   "version": "3.7.7"
  }
 },
 "nbformat": 4,
 "nbformat_minor": 4
}
